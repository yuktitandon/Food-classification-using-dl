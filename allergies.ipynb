{
 "cells": [
  {
   "cell_type": "code",
   "execution_count": 25,
   "id": "3479ecab",
   "metadata": {},
   "outputs": [],
   "source": [
    "import pandas as pd\n",
    "df=pd.read_csv(r\"C:\\Users\\VIDYA RAJU\\Downloads\\Allergies - Sheet1.csv\")"
   ]
  },
  {
   "cell_type": "code",
   "execution_count": 26,
   "id": "43a46645",
   "metadata": {},
   "outputs": [
    {
     "data": {
      "text/html": [
       "<div>\n",
       "<style scoped>\n",
       "    .dataframe tbody tr th:only-of-type {\n",
       "        vertical-align: middle;\n",
       "    }\n",
       "\n",
       "    .dataframe tbody tr th {\n",
       "        vertical-align: top;\n",
       "    }\n",
       "\n",
       "    .dataframe thead th {\n",
       "        text-align: right;\n",
       "    }\n",
       "</style>\n",
       "<table border=\"1\" class=\"dataframe\">\n",
       "  <thead>\n",
       "    <tr style=\"text-align: right;\">\n",
       "      <th></th>\n",
       "      <th>Names</th>\n",
       "      <th>Allergens</th>\n",
       "    </tr>\n",
       "  </thead>\n",
       "  <tbody>\n",
       "    <tr>\n",
       "      <th>0</th>\n",
       "      <td>P1</td>\n",
       "      <td>Cashew, Tomato, Mint leaves, Paneer</td>\n",
       "    </tr>\n",
       "    <tr>\n",
       "      <th>1</th>\n",
       "      <td>P2</td>\n",
       "      <td>Khoya, Paneer, Tomato</td>\n",
       "    </tr>\n",
       "    <tr>\n",
       "      <th>2</th>\n",
       "      <td>P3</td>\n",
       "      <td>Curd, Raw Mango, Curry Leaves, Milk, Paneer</td>\n",
       "    </tr>\n",
       "    <tr>\n",
       "      <th>3</th>\n",
       "      <td>P4</td>\n",
       "      <td>Cashew, Tomato, Kala Chana, Green Chilli, Caps...</td>\n",
       "    </tr>\n",
       "    <tr>\n",
       "      <th>4</th>\n",
       "      <td>P5</td>\n",
       "      <td>Chaat masala Powder, Tomato, Cream Milk, Bakin...</td>\n",
       "    </tr>\n",
       "    <tr>\n",
       "      <th>5</th>\n",
       "      <td>P6</td>\n",
       "      <td>Red Chilli Powder, Rose Water, Lime Juice</td>\n",
       "    </tr>\n",
       "    <tr>\n",
       "      <th>6</th>\n",
       "      <td>P7</td>\n",
       "      <td>Capsicum, Lady Finger, Jeera</td>\n",
       "    </tr>\n",
       "    <tr>\n",
       "      <th>7</th>\n",
       "      <td>P8</td>\n",
       "      <td>Pea, Tomato, Chana masala Powder</td>\n",
       "    </tr>\n",
       "    <tr>\n",
       "      <th>8</th>\n",
       "      <td>P9</td>\n",
       "      <td>Spinach, Tomato, Curry Leaves</td>\n",
       "    </tr>\n",
       "    <tr>\n",
       "      <th>9</th>\n",
       "      <td>P10</td>\n",
       "      <td>Tomato, Ginger, Baking Soda</td>\n",
       "    </tr>\n",
       "  </tbody>\n",
       "</table>\n",
       "</div>"
      ],
      "text/plain": [
       "  Names                                          Allergens\n",
       "0    P1                Cashew, Tomato, Mint leaves, Paneer\n",
       "1    P2                              Khoya, Paneer, Tomato\n",
       "2    P3        Curd, Raw Mango, Curry Leaves, Milk, Paneer\n",
       "3    P4  Cashew, Tomato, Kala Chana, Green Chilli, Caps...\n",
       "4    P5  Chaat masala Powder, Tomato, Cream Milk, Bakin...\n",
       "5    P6          Red Chilli Powder, Rose Water, Lime Juice\n",
       "6    P7                       Capsicum, Lady Finger, Jeera\n",
       "7    P8                   Pea, Tomato, Chana masala Powder\n",
       "8    P9                     Spinach, Tomato, Curry Leaves \n",
       "9   P10                       Tomato, Ginger, Baking Soda "
      ]
     },
     "execution_count": 26,
     "metadata": {},
     "output_type": "execute_result"
    }
   ],
   "source": [
    "df"
   ]
  },
  {
   "cell_type": "code",
   "execution_count": 27,
   "id": "41d6fc15",
   "metadata": {},
   "outputs": [],
   "source": [
    "list1=[]\n",
    "for i in df.Allergens:\n",
    "    if i not in list1:\n",
    "        list1.append(i)"
   ]
  },
  {
   "cell_type": "code",
   "execution_count": 28,
   "id": "6b95c058",
   "metadata": {},
   "outputs": [
    {
     "data": {
      "text/plain": [
       "['Cashew, Tomato, Mint leaves, Paneer',\n",
       " 'Khoya, Paneer, Tomato',\n",
       " 'Curd, Raw Mango, Curry Leaves, Milk, Paneer',\n",
       " 'Cashew, Tomato, Kala Chana, Green Chilli, Capsicum',\n",
       " 'Chaat masala Powder, Tomato, Cream Milk, Baking Soda',\n",
       " 'Red Chilli Powder, Rose Water, Lime Juice',\n",
       " 'Capsicum, Lady Finger, Jeera',\n",
       " 'Pea, Tomato, Chana masala Powder',\n",
       " 'Spinach, Tomato, Curry Leaves ',\n",
       " 'Tomato, Ginger, Baking Soda ']"
      ]
     },
     "execution_count": 28,
     "metadata": {},
     "output_type": "execute_result"
    }
   ],
   "source": [
    "list1"
   ]
  },
  {
   "cell_type": "code",
   "execution_count": 30,
   "id": "ba04d93d",
   "metadata": {},
   "outputs": [],
   "source": [
    "ingre = []\n",
    "for x in list1:\n",
    "    temp = x.split(\",\")\n",
    "    for i in temp:\n",
    "        ingre.append(i)"
   ]
  },
  {
   "cell_type": "code",
   "execution_count": 31,
   "id": "ee57f2b2",
   "metadata": {
    "scrolled": true
   },
   "outputs": [
    {
     "data": {
      "text/plain": [
       "36"
      ]
     },
     "execution_count": 31,
     "metadata": {},
     "output_type": "execute_result"
    }
   ],
   "source": [
    "len(ingre)"
   ]
  },
  {
   "cell_type": "code",
   "execution_count": 32,
   "id": "aabb5634",
   "metadata": {},
   "outputs": [
    {
     "data": {
      "text/plain": [
       "['Cashew',\n",
       " ' Tomato',\n",
       " ' Mint leaves',\n",
       " ' Paneer',\n",
       " 'Khoya',\n",
       " ' Paneer',\n",
       " ' Tomato',\n",
       " 'Curd',\n",
       " ' Raw Mango',\n",
       " ' Curry Leaves',\n",
       " ' Milk',\n",
       " ' Paneer',\n",
       " 'Cashew',\n",
       " ' Tomato',\n",
       " ' Kala Chana',\n",
       " ' Green Chilli',\n",
       " ' Capsicum',\n",
       " 'Chaat masala Powder',\n",
       " ' Tomato',\n",
       " ' Cream Milk',\n",
       " ' Baking Soda',\n",
       " 'Red Chilli Powder',\n",
       " ' Rose Water',\n",
       " ' Lime Juice',\n",
       " 'Capsicum',\n",
       " ' Lady Finger',\n",
       " ' Jeera',\n",
       " 'Pea',\n",
       " ' Tomato',\n",
       " ' Chana masala Powder',\n",
       " 'Spinach',\n",
       " ' Tomato',\n",
       " ' Curry Leaves ',\n",
       " 'Tomato',\n",
       " ' Ginger',\n",
       " ' Baking Soda ']"
      ]
     },
     "execution_count": 32,
     "metadata": {},
     "output_type": "execute_result"
    }
   ],
   "source": [
    "ingre"
   ]
  },
  {
   "cell_type": "code",
   "execution_count": 33,
   "id": "09de301f",
   "metadata": {},
   "outputs": [],
   "source": [
    "ingred_lst= [x.strip() for x in ingre]"
   ]
  },
  {
   "cell_type": "code",
   "execution_count": 34,
   "id": "3f43b48e",
   "metadata": {},
   "outputs": [
    {
     "data": {
      "text/plain": [
       "['Cashew',\n",
       " 'Tomato',\n",
       " 'Mint leaves',\n",
       " 'Paneer',\n",
       " 'Khoya',\n",
       " 'Paneer',\n",
       " 'Tomato',\n",
       " 'Curd',\n",
       " 'Raw Mango',\n",
       " 'Curry Leaves',\n",
       " 'Milk',\n",
       " 'Paneer',\n",
       " 'Cashew',\n",
       " 'Tomato',\n",
       " 'Kala Chana',\n",
       " 'Green Chilli',\n",
       " 'Capsicum',\n",
       " 'Chaat masala Powder',\n",
       " 'Tomato',\n",
       " 'Cream Milk',\n",
       " 'Baking Soda',\n",
       " 'Red Chilli Powder',\n",
       " 'Rose Water',\n",
       " 'Lime Juice',\n",
       " 'Capsicum',\n",
       " 'Lady Finger',\n",
       " 'Jeera',\n",
       " 'Pea',\n",
       " 'Tomato',\n",
       " 'Chana masala Powder',\n",
       " 'Spinach',\n",
       " 'Tomato',\n",
       " 'Curry Leaves',\n",
       " 'Tomato',\n",
       " 'Ginger',\n",
       " 'Baking Soda']"
      ]
     },
     "execution_count": 34,
     "metadata": {},
     "output_type": "execute_result"
    }
   ],
   "source": [
    "ingred_lst"
   ]
  },
  {
   "cell_type": "code",
   "execution_count": 35,
   "id": "6e4caca0",
   "metadata": {},
   "outputs": [],
   "source": [
    "import matplotlib.pyplot as plt\n",
    "%matplotlib inline\n",
    "import seaborn as sns\n",
    "import os"
   ]
  },
  {
   "cell_type": "code",
   "execution_count": null,
   "id": "8d14901a",
   "metadata": {},
   "outputs": [],
   "source": []
  },
  {
   "cell_type": "code",
   "execution_count": 36,
   "id": "c977d063",
   "metadata": {},
   "outputs": [
    {
     "name": "stdout",
     "output_type": "stream",
     "text": [
      "Tomato                 7\n",
      "Paneer                 3\n",
      "Cashew                 2\n",
      "Baking Soda            2\n",
      "Curry Leaves           2\n",
      "Capsicum               2\n",
      "Spinach                1\n",
      "Chana masala Powder    1\n",
      "Pea                    1\n",
      "Jeera                  1\n",
      "Lady Finger            1\n",
      "Lime Juice             1\n",
      "Rose Water             1\n",
      "Red Chilli Powder      1\n",
      "Chaat masala Powder    1\n",
      "Cream Milk             1\n",
      "Green Chilli           1\n",
      "Kala Chana             1\n",
      "Milk                   1\n",
      "Raw Mango              1\n",
      "Curd                   1\n",
      "Khoya                  1\n",
      "Mint leaves            1\n",
      "Ginger                 1\n",
      "dtype: int64\n"
     ]
    }
   ],
   "source": [
    "s = pd.Series(data = ingred_lst)\n",
    "\n",
    "print(s.value_counts())"
   ]
  },
  {
   "cell_type": "code",
   "execution_count": 37,
   "id": "ea17bc52",
   "metadata": {},
   "outputs": [
    {
     "data": {
      "text/plain": [
       "36"
      ]
     },
     "execution_count": 37,
     "metadata": {},
     "output_type": "execute_result"
    }
   ],
   "source": [
    "len(ingred_lst)"
   ]
  },
  {
   "cell_type": "code",
   "execution_count": 39,
   "id": "5af231ff",
   "metadata": {},
   "outputs": [
    {
     "data": {
      "text/plain": [
       "<AxesSubplot:title={'center':'Most frequent allergent'}>"
      ]
     },
     "execution_count": 39,
     "metadata": {},
     "output_type": "execute_result"
    },
    {
     "data": {
      "image/png": "[encoded data removed]",
      "text/plain": [
       "<Figure size 2000x2000 with 1 Axes>"
      ]
     },
     "metadata": {},
     "output_type": "display_data"
    }
   ],
   "source": [
    "plt.figure(figsize=(20,20))\n",
    "plt.title(\"Most frequent allergent\")\n",
    "sns.barplot(x=s.value_counts(),y=s.value_counts().index)"
   ]
  },
  {
   "cell_type": "code",
   "execution_count": null,
   "id": "de8697f5",
   "metadata": {},
   "outputs": [],
   "source": []
  }
 ],
 "metadata": {
  "kernelspec": {
   "display_name": "Python 3 (ipykernel)",
   "language": "python",
   "name": "python3"
  },
  "language_info": {
   "codemirror_mode": {
    "name": "ipython",
    "version": 3
   },
   "file_extension": ".py",
   "mimetype": "text/x-python",
   "name": "python",
   "nbconvert_exporter": "python",
   "pygments_lexer": "ipython3",
   "version": "3.9.13"
  }
 },
 "nbformat": 4,
 "nbformat_minor": 5
}
