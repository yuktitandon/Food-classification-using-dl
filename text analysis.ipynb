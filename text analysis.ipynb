{
 "cells": [
  {
   "cell_type": "code",
   "execution_count": 3,
   "id": "30108fa1",
   "metadata": {},
   "outputs": [
    {
     "ename": "AttributeError",
     "evalue": "'float' object has no attribute 'split'",
     "output_type": "error",
     "traceback": [
      "\u001b[1;31m---------------------------------------------------------------------------\u001b[0m",
      "\u001b[1;31mAttributeError\u001b[0m                            Traceback (most recent call last)",
      "\u001b[1;32m~\\AppData\\Local\\Temp\\ipykernel_1964\\2995558293.py\u001b[0m in \u001b[0;36m<module>\u001b[1;34m\u001b[0m\n\u001b[0;32m      1\u001b[0m \u001b[1;32mimport\u001b[0m \u001b[0mpandas\u001b[0m \u001b[1;32mas\u001b[0m \u001b[0mpd\u001b[0m\u001b[1;33m\u001b[0m\u001b[1;33m\u001b[0m\u001b[0m\n\u001b[0;32m      2\u001b[0m \u001b[0mdf\u001b[0m\u001b[1;33m=\u001b[0m\u001b[0mpd\u001b[0m\u001b[1;33m.\u001b[0m\u001b[0mread_csv\u001b[0m\u001b[1;33m(\u001b[0m\u001b[1;34mr\"C:\\Users\\VIDYA RAJU\\Downloads\\data.csv\"\u001b[0m\u001b[1;33m)\u001b[0m\u001b[1;33m\u001b[0m\u001b[1;33m\u001b[0m\u001b[0m\n\u001b[1;32m----> 3\u001b[1;33m \u001b[0mitemslist\u001b[0m\u001b[1;33m=\u001b[0m\u001b[1;33m[\u001b[0m\u001b[0mi\u001b[0m\u001b[1;33m.\u001b[0m\u001b[0msplit\u001b[0m\u001b[1;33m(\u001b[0m\u001b[1;34m','\u001b[0m\u001b[1;33m)\u001b[0m \u001b[1;32mfor\u001b[0m \u001b[0mi\u001b[0m \u001b[1;32min\u001b[0m \u001b[0mdf\u001b[0m\u001b[1;33m[\u001b[0m\u001b[1;34m'Ingredients'\u001b[0m\u001b[1;33m]\u001b[0m\u001b[1;33m.\u001b[0m\u001b[0mtolist\u001b[0m\u001b[1;33m(\u001b[0m\u001b[1;33m)\u001b[0m\u001b[1;33m]\u001b[0m\u001b[1;33m\u001b[0m\u001b[1;33m\u001b[0m\u001b[0m\n\u001b[0m\u001b[0;32m      4\u001b[0m \u001b[0mallitems\u001b[0m\u001b[1;33m=\u001b[0m\u001b[1;33m[\u001b[0m\u001b[0mitem\u001b[0m \u001b[1;32mfor\u001b[0m \u001b[0msublist\u001b[0m \u001b[1;32min\u001b[0m \u001b[0mitemslist\u001b[0m \u001b[1;32mfor\u001b[0m \u001b[0mitem\u001b[0m \u001b[1;32min\u001b[0m \u001b[0msublist\u001b[0m\u001b[1;33m]\u001b[0m\u001b[1;33m\u001b[0m\u001b[1;33m\u001b[0m\u001b[0m\n",
      "\u001b[1;32m~\\AppData\\Local\\Temp\\ipykernel_1964\\2995558293.py\u001b[0m in \u001b[0;36m<listcomp>\u001b[1;34m(.0)\u001b[0m\n\u001b[0;32m      1\u001b[0m \u001b[1;32mimport\u001b[0m \u001b[0mpandas\u001b[0m \u001b[1;32mas\u001b[0m \u001b[0mpd\u001b[0m\u001b[1;33m\u001b[0m\u001b[1;33m\u001b[0m\u001b[0m\n\u001b[0;32m      2\u001b[0m \u001b[0mdf\u001b[0m\u001b[1;33m=\u001b[0m\u001b[0mpd\u001b[0m\u001b[1;33m.\u001b[0m\u001b[0mread_csv\u001b[0m\u001b[1;33m(\u001b[0m\u001b[1;34mr\"C:\\Users\\VIDYA RAJU\\Downloads\\data.csv\"\u001b[0m\u001b[1;33m)\u001b[0m\u001b[1;33m\u001b[0m\u001b[1;33m\u001b[0m\u001b[0m\n\u001b[1;32m----> 3\u001b[1;33m \u001b[0mitemslist\u001b[0m\u001b[1;33m=\u001b[0m\u001b[1;33m[\u001b[0m\u001b[0mi\u001b[0m\u001b[1;33m.\u001b[0m\u001b[0msplit\u001b[0m\u001b[1;33m(\u001b[0m\u001b[1;34m','\u001b[0m\u001b[1;33m)\u001b[0m \u001b[1;32mfor\u001b[0m \u001b[0mi\u001b[0m \u001b[1;32min\u001b[0m \u001b[0mdf\u001b[0m\u001b[1;33m[\u001b[0m\u001b[1;34m'Ingredients'\u001b[0m\u001b[1;33m]\u001b[0m\u001b[1;33m.\u001b[0m\u001b[0mtolist\u001b[0m\u001b[1;33m(\u001b[0m\u001b[1;33m)\u001b[0m\u001b[1;33m]\u001b[0m\u001b[1;33m\u001b[0m\u001b[1;33m\u001b[0m\u001b[0m\n\u001b[0m\u001b[0;32m      4\u001b[0m \u001b[0mallitems\u001b[0m\u001b[1;33m=\u001b[0m\u001b[1;33m[\u001b[0m\u001b[0mitem\u001b[0m \u001b[1;32mfor\u001b[0m \u001b[0msublist\u001b[0m \u001b[1;32min\u001b[0m \u001b[0mitemslist\u001b[0m \u001b[1;32mfor\u001b[0m \u001b[0mitem\u001b[0m \u001b[1;32min\u001b[0m \u001b[0msublist\u001b[0m\u001b[1;33m]\u001b[0m\u001b[1;33m\u001b[0m\u001b[1;33m\u001b[0m\u001b[0m\n",
      "\u001b[1;31mAttributeError\u001b[0m: 'float' object has no attribute 'split'"
     ]
    }
   ],
   "source": []
  },
  {
   "cell_type": "code",
   "execution_count": null,
   "id": "72709aa2",
   "metadata": {},
   "outputs": [],
   "source": [
    "    "
   ]
  },
  {
   "cell_type": "code",
   "execution_count": 4,
   "id": "6945d4bc",
   "metadata": {},
   "outputs": [
    {
     "ename": "ParserError",
     "evalue": "Error tokenizing data. C error: Expected 27 fields in line 5, saw 28\n",
     "output_type": "error",
     "traceback": [
      "\u001b[1;31m---------------------------------------------------------------------------\u001b[0m",
      "\u001b[1;31mParserError\u001b[0m                               Traceback (most recent call last)",
      "\u001b[1;32m~\\AppData\\Local\\Temp\\ipykernel_5876\\3577278090.py\u001b[0m in \u001b[0;36m<module>\u001b[1;34m\u001b[0m\n\u001b[0;32m      1\u001b[0m \u001b[1;32mimport\u001b[0m \u001b[0mpandas\u001b[0m \u001b[1;32mas\u001b[0m \u001b[0mpd\u001b[0m\u001b[1;33m\u001b[0m\u001b[1;33m\u001b[0m\u001b[0m\n\u001b[1;32m----> 2\u001b[1;33m \u001b[0mdf\u001b[0m\u001b[1;33m=\u001b[0m\u001b[0mpd\u001b[0m\u001b[1;33m.\u001b[0m\u001b[0mread_csv\u001b[0m\u001b[1;33m(\u001b[0m\u001b[1;34mr\"C:\\Users\\VIDYA RAJU\\Downloads\\data.csv\"\u001b[0m\u001b[1;33m,\u001b[0m\u001b[0msep\u001b[0m\u001b[1;33m=\u001b[0m\u001b[1;34m'\\s+'\u001b[0m\u001b[1;33m)\u001b[0m\u001b[1;33m\u001b[0m\u001b[1;33m\u001b[0m\u001b[0m\n\u001b[0m\u001b[0;32m      3\u001b[0m \u001b[0mitemslist\u001b[0m\u001b[1;33m=\u001b[0m\u001b[1;33m[\u001b[0m\u001b[0mi\u001b[0m\u001b[1;33m.\u001b[0m\u001b[0msplit\u001b[0m\u001b[1;33m(\u001b[0m\u001b[1;34m','\u001b[0m\u001b[1;33m)\u001b[0m \u001b[1;32mfor\u001b[0m \u001b[0mi\u001b[0m \u001b[1;32min\u001b[0m \u001b[0mdf\u001b[0m\u001b[1;33m[\u001b[0m\u001b[1;34m'Ingredients'\u001b[0m\u001b[1;33m]\u001b[0m\u001b[1;33m.\u001b[0m\u001b[0mtolist\u001b[0m\u001b[1;33m(\u001b[0m\u001b[1;33m)\u001b[0m\u001b[1;33m]\u001b[0m\u001b[1;33m\u001b[0m\u001b[1;33m\u001b[0m\u001b[0m\n\u001b[0;32m      4\u001b[0m \u001b[0mallitems\u001b[0m\u001b[1;33m=\u001b[0m\u001b[1;33m[\u001b[0m\u001b[0mitem\u001b[0m \u001b[1;32mfor\u001b[0m \u001b[0msublist\u001b[0m \u001b[1;32min\u001b[0m \u001b[0mitemslist\u001b[0m \u001b[1;32mfor\u001b[0m \u001b[0mitem\u001b[0m \u001b[1;32min\u001b[0m \u001b[0msublist\u001b[0m\u001b[1;33m]\u001b[0m\u001b[1;33m\u001b[0m\u001b[1;33m\u001b[0m\u001b[0m\n\u001b[0;32m      5\u001b[0m \u001b[1;33m\u001b[0m\u001b[0m\n",
      "\u001b[1;32mD:\\anaconda3\\lib\\site-packages\\pandas\\util\\_decorators.py\u001b[0m in \u001b[0;36mwrapper\u001b[1;34m(*args, **kwargs)\u001b[0m\n\u001b[0;32m    309\u001b[0m                     \u001b[0mstacklevel\u001b[0m\u001b[1;33m=\u001b[0m\u001b[0mstacklevel\u001b[0m\u001b[1;33m,\u001b[0m\u001b[1;33m\u001b[0m\u001b[1;33m\u001b[0m\u001b[0m\n\u001b[0;32m    310\u001b[0m                 )\n\u001b[1;32m--> 311\u001b[1;33m             \u001b[1;32mreturn\u001b[0m \u001b[0mfunc\u001b[0m\u001b[1;33m(\u001b[0m\u001b[1;33m*\u001b[0m\u001b[0margs\u001b[0m\u001b[1;33m,\u001b[0m \u001b[1;33m**\u001b[0m\u001b[0mkwargs\u001b[0m\u001b[1;33m)\u001b[0m\u001b[1;33m\u001b[0m\u001b[1;33m\u001b[0m\u001b[0m\n\u001b[0m\u001b[0;32m    312\u001b[0m \u001b[1;33m\u001b[0m\u001b[0m\n\u001b[0;32m    313\u001b[0m         \u001b[1;32mreturn\u001b[0m \u001b[0mwrapper\u001b[0m\u001b[1;33m\u001b[0m\u001b[1;33m\u001b[0m\u001b[0m\n",
      "\u001b[1;32mD:\\anaconda3\\lib\\site-packages\\pandas\\io\\parsers\\readers.py\u001b[0m in \u001b[0;36mread_csv\u001b[1;34m(filepath_or_buffer, sep, delimiter, header, names, index_col, usecols, squeeze, prefix, mangle_dupe_cols, dtype, engine, converters, true_values, false_values, skipinitialspace, skiprows, skipfooter, nrows, na_values, keep_default_na, na_filter, verbose, skip_blank_lines, parse_dates, infer_datetime_format, keep_date_col, date_parser, dayfirst, cache_dates, iterator, chunksize, compression, thousands, decimal, lineterminator, quotechar, quoting, doublequote, escapechar, comment, encoding, encoding_errors, dialect, error_bad_lines, warn_bad_lines, on_bad_lines, delim_whitespace, low_memory, memory_map, float_precision, storage_options)\u001b[0m\n\u001b[0;32m    676\u001b[0m     \u001b[0mkwds\u001b[0m\u001b[1;33m.\u001b[0m\u001b[0mupdate\u001b[0m\u001b[1;33m(\u001b[0m\u001b[0mkwds_defaults\u001b[0m\u001b[1;33m)\u001b[0m\u001b[1;33m\u001b[0m\u001b[1;33m\u001b[0m\u001b[0m\n\u001b[0;32m    677\u001b[0m \u001b[1;33m\u001b[0m\u001b[0m\n\u001b[1;32m--> 678\u001b[1;33m     \u001b[1;32mreturn\u001b[0m \u001b[0m_read\u001b[0m\u001b[1;33m(\u001b[0m\u001b[0mfilepath_or_buffer\u001b[0m\u001b[1;33m,\u001b[0m \u001b[0mkwds\u001b[0m\u001b[1;33m)\u001b[0m\u001b[1;33m\u001b[0m\u001b[1;33m\u001b[0m\u001b[0m\n\u001b[0m\u001b[0;32m    679\u001b[0m \u001b[1;33m\u001b[0m\u001b[0m\n\u001b[0;32m    680\u001b[0m \u001b[1;33m\u001b[0m\u001b[0m\n",
      "\u001b[1;32mD:\\anaconda3\\lib\\site-packages\\pandas\\io\\parsers\\readers.py\u001b[0m in \u001b[0;36m_read\u001b[1;34m(filepath_or_buffer, kwds)\u001b[0m\n\u001b[0;32m    579\u001b[0m \u001b[1;33m\u001b[0m\u001b[0m\n\u001b[0;32m    580\u001b[0m     \u001b[1;32mwith\u001b[0m \u001b[0mparser\u001b[0m\u001b[1;33m:\u001b[0m\u001b[1;33m\u001b[0m\u001b[1;33m\u001b[0m\u001b[0m\n\u001b[1;32m--> 581\u001b[1;33m         \u001b[1;32mreturn\u001b[0m \u001b[0mparser\u001b[0m\u001b[1;33m.\u001b[0m\u001b[0mread\u001b[0m\u001b[1;33m(\u001b[0m\u001b[0mnrows\u001b[0m\u001b[1;33m)\u001b[0m\u001b[1;33m\u001b[0m\u001b[1;33m\u001b[0m\u001b[0m\n\u001b[0m\u001b[0;32m    582\u001b[0m \u001b[1;33m\u001b[0m\u001b[0m\n\u001b[0;32m    583\u001b[0m \u001b[1;33m\u001b[0m\u001b[0m\n",
      "\u001b[1;32mD:\\anaconda3\\lib\\site-packages\\pandas\\io\\parsers\\readers.py\u001b[0m in \u001b[0;36mread\u001b[1;34m(self, nrows)\u001b[0m\n\u001b[0;32m   1251\u001b[0m             \u001b[0mnrows\u001b[0m \u001b[1;33m=\u001b[0m \u001b[0mvalidate_integer\u001b[0m\u001b[1;33m(\u001b[0m\u001b[1;34m\"nrows\"\u001b[0m\u001b[1;33m,\u001b[0m \u001b[0mnrows\u001b[0m\u001b[1;33m)\u001b[0m\u001b[1;33m\u001b[0m\u001b[1;33m\u001b[0m\u001b[0m\n\u001b[0;32m   1252\u001b[0m             \u001b[1;32mtry\u001b[0m\u001b[1;33m:\u001b[0m\u001b[1;33m\u001b[0m\u001b[1;33m\u001b[0m\u001b[0m\n\u001b[1;32m-> 1253\u001b[1;33m                 \u001b[0mindex\u001b[0m\u001b[1;33m,\u001b[0m \u001b[0mcolumns\u001b[0m\u001b[1;33m,\u001b[0m \u001b[0mcol_dict\u001b[0m \u001b[1;33m=\u001b[0m \u001b[0mself\u001b[0m\u001b[1;33m.\u001b[0m\u001b[0m_engine\u001b[0m\u001b[1;33m.\u001b[0m\u001b[0mread\u001b[0m\u001b[1;33m(\u001b[0m\u001b[0mnrows\u001b[0m\u001b[1;33m)\u001b[0m\u001b[1;33m\u001b[0m\u001b[1;33m\u001b[0m\u001b[0m\n\u001b[0m\u001b[0;32m   1254\u001b[0m             \u001b[1;32mexcept\u001b[0m \u001b[0mException\u001b[0m\u001b[1;33m:\u001b[0m\u001b[1;33m\u001b[0m\u001b[1;33m\u001b[0m\u001b[0m\n\u001b[0;32m   1255\u001b[0m                 \u001b[0mself\u001b[0m\u001b[1;33m.\u001b[0m\u001b[0mclose\u001b[0m\u001b[1;33m(\u001b[0m\u001b[1;33m)\u001b[0m\u001b[1;33m\u001b[0m\u001b[1;33m\u001b[0m\u001b[0m\n",
      "\u001b[1;32mD:\\anaconda3\\lib\\site-packages\\pandas\\io\\parsers\\c_parser_wrapper.py\u001b[0m in \u001b[0;36mread\u001b[1;34m(self, nrows)\u001b[0m\n\u001b[0;32m    223\u001b[0m         \u001b[1;32mtry\u001b[0m\u001b[1;33m:\u001b[0m\u001b[1;33m\u001b[0m\u001b[1;33m\u001b[0m\u001b[0m\n\u001b[0;32m    224\u001b[0m             \u001b[1;32mif\u001b[0m \u001b[0mself\u001b[0m\u001b[1;33m.\u001b[0m\u001b[0mlow_memory\u001b[0m\u001b[1;33m:\u001b[0m\u001b[1;33m\u001b[0m\u001b[1;33m\u001b[0m\u001b[0m\n\u001b[1;32m--> 225\u001b[1;33m                 \u001b[0mchunks\u001b[0m \u001b[1;33m=\u001b[0m \u001b[0mself\u001b[0m\u001b[1;33m.\u001b[0m\u001b[0m_reader\u001b[0m\u001b[1;33m.\u001b[0m\u001b[0mread_low_memory\u001b[0m\u001b[1;33m(\u001b[0m\u001b[0mnrows\u001b[0m\u001b[1;33m)\u001b[0m\u001b[1;33m\u001b[0m\u001b[1;33m\u001b[0m\u001b[0m\n\u001b[0m\u001b[0;32m    226\u001b[0m                 \u001b[1;31m# destructive to chunks\u001b[0m\u001b[1;33m\u001b[0m\u001b[1;33m\u001b[0m\u001b[0m\n\u001b[0;32m    227\u001b[0m                 \u001b[0mdata\u001b[0m \u001b[1;33m=\u001b[0m \u001b[0m_concatenate_chunks\u001b[0m\u001b[1;33m(\u001b[0m\u001b[0mchunks\u001b[0m\u001b[1;33m)\u001b[0m\u001b[1;33m\u001b[0m\u001b[1;33m\u001b[0m\u001b[0m\n",
      "\u001b[1;32mD:\\anaconda3\\lib\\site-packages\\pandas\\_libs\\parsers.pyx\u001b[0m in \u001b[0;36mpandas._libs.parsers.TextReader.read_low_memory\u001b[1;34m()\u001b[0m\n",
      "\u001b[1;32mD:\\anaconda3\\lib\\site-packages\\pandas\\_libs\\parsers.pyx\u001b[0m in \u001b[0;36mpandas._libs.parsers.TextReader._read_rows\u001b[1;34m()\u001b[0m\n",
      "\u001b[1;32mD:\\anaconda3\\lib\\site-packages\\pandas\\_libs\\parsers.pyx\u001b[0m in \u001b[0;36mpandas._libs.parsers.TextReader._tokenize_rows\u001b[1;34m()\u001b[0m\n",
      "\u001b[1;32mD:\\anaconda3\\lib\\site-packages\\pandas\\_libs\\parsers.pyx\u001b[0m in \u001b[0;36mpandas._libs.parsers.raise_parser_error\u001b[1;34m()\u001b[0m\n",
      "\u001b[1;31mParserError\u001b[0m: Error tokenizing data. C error: Expected 27 fields in line 5, saw 28\n"
     ]
    }
   ],
   "source": []
  },
  {
   "cell_type": "code",
   "execution_count": null,
   "id": "e9cb0f36",
   "metadata": {},
   "outputs": [],
   "source": [
    "\n"
   ]
  },
  {
   "cell_type": "code",
   "execution_count": 7,
   "id": "842bae60",
   "metadata": {},
   "outputs": [],
   "source": [
    "import pandas as pd\n",
    "df=pd.read_csv(r\"C:\\Users\\VIDYA RAJU\\Downloads\\data.csv\")"
   ]
  },
  {
   "cell_type": "code",
   "execution_count": 8,
   "id": "49829d30",
   "metadata": {},
   "outputs": [
    {
     "data": {
      "text/html": [
       "<div>\n",
       "<style scoped>\n",
       "    .dataframe tbody tr th:only-of-type {\n",
       "        vertical-align: middle;\n",
       "    }\n",
       "\n",
       "    .dataframe tbody tr th {\n",
       "        vertical-align: top;\n",
       "    }\n",
       "\n",
       "    .dataframe thead th {\n",
       "        text-align: right;\n",
       "    }\n",
       "</style>\n",
       "<table border=\"1\" class=\"dataframe\">\n",
       "  <thead>\n",
       "    <tr style=\"text-align: right;\">\n",
       "      <th></th>\n",
       "      <th>Name</th>\n",
       "      <th>Ingredients</th>\n",
       "      <th>Fats</th>\n",
       "      <th>Protien</th>\n",
       "      <th>Carbohydrates</th>\n",
       "      <th>Calories</th>\n",
       "    </tr>\n",
       "  </thead>\n",
       "  <tbody>\n",
       "    <tr>\n",
       "      <th>0</th>\n",
       "      <td>Dal Makhani</td>\n",
       "      <td>Red Kidney Beans, Red Chilli Powder, Butter, L...</td>\n",
       "      <td>24g</td>\n",
       "      <td>16g</td>\n",
       "      <td>39g</td>\n",
       "      <td>427.0</td>\n",
       "    </tr>\n",
       "    <tr>\n",
       "      <th>1</th>\n",
       "      <td>Chicken Biryani</td>\n",
       "      <td>Basmati Rice, Mint Leaves, Salt, Oil, Cardamom...</td>\n",
       "      <td>9.4g</td>\n",
       "      <td>20g</td>\n",
       "      <td>31g</td>\n",
       "      <td>292.0</td>\n",
       "    </tr>\n",
       "    <tr>\n",
       "      <th>2</th>\n",
       "      <td>Poori</td>\n",
       "      <td>Wheat Flour, Atta Flour, Salt, Oil, Water</td>\n",
       "      <td>58.8g</td>\n",
       "      <td>13.3g</td>\n",
       "      <td>72g</td>\n",
       "      <td>846.0</td>\n",
       "    </tr>\n",
       "    <tr>\n",
       "      <th>3</th>\n",
       "      <td>Vada</td>\n",
       "      <td>Urad Dal, Green Chilli, Oil, Rice, Coriander L...</td>\n",
       "      <td>25.2g</td>\n",
       "      <td>13.2g</td>\n",
       "      <td>33g</td>\n",
       "      <td>405.0</td>\n",
       "    </tr>\n",
       "    <tr>\n",
       "      <th>4</th>\n",
       "      <td>Kaju Katli</td>\n",
       "      <td>Cashew, Sugar, Ghee, Water, Silver Vark, Green...</td>\n",
       "      <td>58.5g</td>\n",
       "      <td>19.5g</td>\n",
       "      <td>156g</td>\n",
       "      <td>1196.0</td>\n",
       "    </tr>\n",
       "    <tr>\n",
       "      <th>5</th>\n",
       "      <td>Aloo Jeera</td>\n",
       "      <td>Potato, Turmeric, Ginger, Cumin Seeds, Green C...</td>\n",
       "      <td>11.2g</td>\n",
       "      <td>7g</td>\n",
       "      <td>56g</td>\n",
       "      <td>344.0</td>\n",
       "    </tr>\n",
       "    <tr>\n",
       "      <th>6</th>\n",
       "      <td>Mattar Paneer</td>\n",
       "      <td>Paneer, Pea, Onion, Oil, Coriander Leaves, Cur...</td>\n",
       "      <td>23g</td>\n",
       "      <td>11.5g</td>\n",
       "      <td>12.5g</td>\n",
       "      <td>299.5</td>\n",
       "    </tr>\n",
       "    <tr>\n",
       "      <th>7</th>\n",
       "      <td>Chicken Lollipop</td>\n",
       "      <td>Chicken Leg, Garam Masala, Onion, Coriander Le...</td>\n",
       "      <td>58.5g</td>\n",
       "      <td>40.5g</td>\n",
       "      <td>23.4g</td>\n",
       "      <td>792.0</td>\n",
       "    </tr>\n",
       "    <tr>\n",
       "      <th>8</th>\n",
       "      <td>Palak Paneer</td>\n",
       "      <td>Paneer, Spinach, Cumin Seeds, Red Chilli, Onio...</td>\n",
       "      <td>36g</td>\n",
       "      <td>18g</td>\n",
       "      <td>12g</td>\n",
       "      <td>439.2</td>\n",
       "    </tr>\n",
       "    <tr>\n",
       "      <th>9</th>\n",
       "      <td>Beetroot Halwa</td>\n",
       "      <td>Beetroot, Cream Milk, Ghee, Khoya, Sugar, Gree...</td>\n",
       "      <td>15.6g</td>\n",
       "      <td>6.7g</td>\n",
       "      <td>42g</td>\n",
       "      <td>330.0</td>\n",
       "    </tr>\n",
       "    <tr>\n",
       "      <th>10</th>\n",
       "      <td>Parotta</td>\n",
       "      <td>Maida, Wheat Flour, Oil, Baking Soda, Sugar, S...</td>\n",
       "      <td>30g</td>\n",
       "      <td>15g</td>\n",
       "      <td>108g</td>\n",
       "      <td>774.0</td>\n",
       "    </tr>\n",
       "    <tr>\n",
       "      <th>11</th>\n",
       "      <td>Egg Burji</td>\n",
       "      <td>Egg, Onion, Tomato, Chilli, Capsicum, Ginger, ...</td>\n",
       "      <td>24g</td>\n",
       "      <td>31.5g</td>\n",
       "      <td>1.8g</td>\n",
       "      <td>360.0</td>\n",
       "    </tr>\n",
       "    <tr>\n",
       "      <th>12</th>\n",
       "      <td>Bhindi Fry</td>\n",
       "      <td>Ladys Finger, Onion, Tomato, Curry Leaves, Red...</td>\n",
       "      <td>22.1g</td>\n",
       "      <td>3.8g</td>\n",
       "      <td>15.6g</td>\n",
       "      <td>254.8</td>\n",
       "    </tr>\n",
       "    <tr>\n",
       "      <th>13</th>\n",
       "      <td>Rasgulla</td>\n",
       "      <td>Milk, Sugar, All Purpose Flour (Maida), Rose W...</td>\n",
       "      <td>3.6g</td>\n",
       "      <td>3.4g</td>\n",
       "      <td>50g</td>\n",
       "      <td>240.0</td>\n",
       "    </tr>\n",
       "    <tr>\n",
       "      <th>14</th>\n",
       "      <td>Jalebi</td>\n",
       "      <td>purpose flour, hung curd, ghee, sugar, saffron...</td>\n",
       "      <td>15.8g</td>\n",
       "      <td>5.9g</td>\n",
       "      <td>130.5g</td>\n",
       "      <td>675.0</td>\n",
       "    </tr>\n",
       "  </tbody>\n",
       "</table>\n",
       "</div>"
      ],
      "text/plain": [
       "                Name                                        Ingredients  \\\n",
       "0        Dal Makhani  Red Kidney Beans, Red Chilli Powder, Butter, L...   \n",
       "1    Chicken Biryani  Basmati Rice, Mint Leaves, Salt, Oil, Cardamom...   \n",
       "2              Poori          Wheat Flour, Atta Flour, Salt, Oil, Water   \n",
       "3               Vada  Urad Dal, Green Chilli, Oil, Rice, Coriander L...   \n",
       "4         Kaju Katli  Cashew, Sugar, Ghee, Water, Silver Vark, Green...   \n",
       "5         Aloo Jeera  Potato, Turmeric, Ginger, Cumin Seeds, Green C...   \n",
       "6      Mattar Paneer  Paneer, Pea, Onion, Oil, Coriander Leaves, Cur...   \n",
       "7   Chicken Lollipop  Chicken Leg, Garam Masala, Onion, Coriander Le...   \n",
       "8       Palak Paneer  Paneer, Spinach, Cumin Seeds, Red Chilli, Onio...   \n",
       "9     Beetroot Halwa  Beetroot, Cream Milk, Ghee, Khoya, Sugar, Gree...   \n",
       "10           Parotta  Maida, Wheat Flour, Oil, Baking Soda, Sugar, S...   \n",
       "11         Egg Burji  Egg, Onion, Tomato, Chilli, Capsicum, Ginger, ...   \n",
       "12        Bhindi Fry  Ladys Finger, Onion, Tomato, Curry Leaves, Red...   \n",
       "13          Rasgulla  Milk, Sugar, All Purpose Flour (Maida), Rose W...   \n",
       "14            Jalebi  purpose flour, hung curd, ghee, sugar, saffron...   \n",
       "\n",
       "     Fats Protien Carbohydrates  Calories  \n",
       "0     24g     16g           39g     427.0  \n",
       "1    9.4g     20g           31g     292.0  \n",
       "2   58.8g   13.3g           72g     846.0  \n",
       "3   25.2g   13.2g           33g     405.0  \n",
       "4   58.5g   19.5g          156g    1196.0  \n",
       "5   11.2g      7g           56g     344.0  \n",
       "6     23g   11.5g         12.5g     299.5  \n",
       "7   58.5g   40.5g         23.4g     792.0  \n",
       "8     36g     18g           12g     439.2  \n",
       "9   15.6g    6.7g           42g     330.0  \n",
       "10    30g     15g          108g     774.0  \n",
       "11    24g   31.5g          1.8g     360.0  \n",
       "12  22.1g    3.8g         15.6g     254.8  \n",
       "13   3.6g    3.4g           50g     240.0  \n",
       "14  15.8g    5.9g        130.5g     675.0  "
      ]
     },
     "execution_count": 8,
     "metadata": {},
     "output_type": "execute_result"
    }
   ],
   "source": [
    "df"
   ]
  },
  {
   "cell_type": "code",
   "execution_count": 9,
   "id": "80c32128",
   "metadata": {},
   "outputs": [
    {
     "name": "stdout",
     "output_type": "stream",
     "text": [
      "Red Kidney Beans, Red Chilli Powder, Butter, Large Onion, Tomato, Fresh Cream, Ginger Paste, Salt, Oil, Green Chilli, Garam Masala Powder, Urad Dal, Garlic Paste, Water\n",
      "Basmati Rice, Mint Leaves, Salt, Oil, Cardamom, Clove, Oniion, Turmeric, Garllic Paste, Hung Curd, Coriander Leaves, Water, Ghee, Chicken, Garam Masala Powder, Saffron, Bay Leaf, Cardamom, Cumin Seeds, Chillies, Ginger Paste, Red Chilli Powder, Ginger, Kewra, Rose Water\n",
      "Wheat Flour, Atta Flour, Salt, Oil, Water\n",
      "Urad Dal, Green Chilli, Oil, Rice, Coriander Leaves, Salt, Kala Chana\n",
      "Cashew, Sugar, Ghee, Water, Silver Vark, Green Cardamom\n",
      "Potato, Turmeric, Ginger, Cumin Seeds, Green Chilli, Oil, Curry Leaves, Salt\n",
      "Paneer, Pea, Onion, Oil, Coriander Leaves, Curry Leaves, Red Chilli Powder, Green Chilli, Garam Masala, Salt, Water\n",
      "Chicken Leg, Garam Masala, Onion, Coriander Leaves, Salt, Coriander Powder, Oil, Corn Flour, Red Chilli Powder\n",
      "Paneer, Spinach, Cumin Seeds, Red Chilli, Onion, Ginger, Garlic, Green Chilli, Salt, Ghee, Cumin Powder, Kasoori Methi Powder, Butter, Fresh Cream, Red Chilli Powder\n",
      "Beetroot, Cream Milk, Ghee, Khoya, Sugar, Green Cardamom, Dry Fruits\n",
      "Maida, Wheat Flour, Oil, Baking Soda, Sugar, Salt, Water\n",
      "Egg, Onion, Tomato, Chilli, Capsicum, Ginger, Coriander Leaves, Curry Leaves, Ghee, Jeera, Red Chilli Powder, Turmeric Powder, Salt, Butter\n",
      "Ladys Finger, Onion, Tomato, Curry Leaves, Red Chilli Powder, Turmeric Powder, Coriander Powder, Salt, Coriander Leaves\n",
      "Milk, Sugar, All Purpose Flour (Maida), Rose Water, Lime Juice, Green Cardamom, Water\n",
      "purpose flour, hung curd, ghee, sugar, saffron, powdered green cardamom, corn flour, baking soda, sunflower oil, water, rose essence, edible food color\n"
     ]
    }
   ],
   "source": [
    "for x in df.Ingredients:\n",
    "    print(x)"
   ]
  },
  {
   "cell_type": "code",
   "execution_count": 111,
   "id": "7336d8a1",
   "metadata": {},
   "outputs": [
    {
     "name": "stdout",
     "output_type": "stream",
     "text": [
      "<class 'str'>\n"
     ]
    }
   ],
   "source": [
    "print(type(x))"
   ]
  },
  {
   "cell_type": "code",
   "execution_count": 10,
   "id": "3d875bb2",
   "metadata": {},
   "outputs": [],
   "source": [
    "list1=[]\n",
    "for i in df.Ingredients:\n",
    "    if i not in list1:\n",
    "        list1.append(i)\n",
    "        "
   ]
  },
  {
   "cell_type": "code",
   "execution_count": 113,
   "id": "7f2dd9bb",
   "metadata": {
    "scrolled": true
   },
   "outputs": [
    {
     "name": "stdout",
     "output_type": "stream",
     "text": [
      "['Red Kidney Beans, Red Chilli Powder, Butter, Large Onion, Tomato, Fresh Cream, Ginger Paste, Salt, Oil, Green Chilli, Garam Masala Powder, Urad Dal, Garlic Paste, Water', 'Carrot, Beans, Tomato, Onion, Brinjal, Drumstick, Toor Dal, Tamarind, Oil, Chana Dal, Red Chilli, Grated Coconut, Shallots, Powdered Turmeric, Fenugreek Seeds, Coriander Seeds, Garlic', 'Butter, Sugar, Whole Wheat, Salt, Dry Yeast, Yoghurt, Water', 'Chicken, Onion, Bell Pepper, Oil, Yoghurt, Chilli Powder, Coriander Powder, Cumin Powder, Kasoori methi Powder, Garlic Paste, Lemon Juice, Paprika, Garam Masala Powder, Caraway seeds, Ginger Paste', 'Paneer, Garlic Paste, Cashew Nut Paste, Fresh Cream, Butter, Kasoori Methi Powder, Chaat masala Powder, Tomato, Ginger Paste, Red Chilli Powder, Ghee, Salt, Honey', 'Basmati Rice, Mint Leaves, Salt, Oil, Cardamom, Clove, Oniion, Turmeric, Garllic Paste, Hung Curd, Coriander Leaves, Water, Ghee, Chicken, Garam Masala Powder, Saffron, Bay Leaf, Cardamom, Cumin Seeds, Chillies, Ginger Paste, Red Chilli Powder, Ginger, Kewra, Rose Water', 'Paneer, Green Cardamom, Sugar, Corn Flour, Almonds, Turmeric, Cashew Nut Paste, Sugar, Salt, Fresh Cream, Khoya, Pepper Powder, All Purpose Flour (Maida), Cashews, Raisins, Oil, Butter, Chili Oil, Onion', 'Idli Rice, Urad Dal, Fenugreek Seeds, Salt, Oil, Water', 'Wheat Flour, Atta Flour, Salt, Oil, Water', 'Idli Rice, Fenugreek Seeds, Oil, Urad Dal, Salt, Water', 'Wheat Flour, Water, Ghee, Salt', 'Urad Dal, Green Chilli, Oil, Rice, Coriander Leaves, Salt, Kala Chana', 'Cashew, Tomato, Garlic, Green Chillies, Salt, Fresh Cream, Sugar, Coriander Leaves, Ginger Paste, Bay Leaf, Red Chilli Powder, Garam Masala Powder, Butter, Fenugreek Leaves, Water', 'Cashew, Sugar, Ghee, Water, Silver Vark, Green Cardamom', 'Lamb Trotters, Salt, Green Cardamom, Onion, Ginger Paste, Tomato, Garam Masala Powder, Chana Dal, Water, Turmeric, Black Pepper, Ghee, Green Chilli, Garlic Paste, Red Chilli Powder, Coriander Leaves, Grated Coconut', 'Keema, Ginger Garlic Paste, Red Chilli Powder, Salt, Dal, Onion, Green Chilli, Curry Leaves, Cloves, Cinnamon Sticks, Coriander, Cardamoms, Fennel Seeds, Coriander Leaves, Oil', 'Rice, Ghee, Asafoetida, Curry Leaves, Cashews, Turmeric, Black Pepper, Cumin Seeds, Ginger Paste, Moong Dal, Salt, Water', 'Potato, Turmeric, Ginger, Cumin Seeds, Green Chilli, Oil, Curry Leaves, Salt', 'Paneer, Pea, Onion, Oil, Coriander Leaves, Curry Leaves, Red Chilli Powder, Green Chilli, Garam Masala, Salt, Water', 'Chicken Leg, Garam Masala, Onion, Coriander Leaves, Salt, Coriander Powder, Oil, Corn Flour, Red Chilli Powder', 'Paneer, Spinach, Cumin Seeds, Red Chilli, Onion, Ginger, Garlic, Green Chilli, Salt, Ghee, Cumin Powder, Kasoori Methi Powder, Butter, Fresh Cream, Red Chilli Powder', 'Beetroot, Cream Milk, Ghee, Khoya, Sugar, Green Cardamom, Dry Fruits', 'Maida, Wheat Flour, Oil, Baking Soda, Sugar, Salt, Water', 'Rice, Cream Milk, Sugar, Green Cardamom, Almonds, Cashews, Pistachio Sultanas, Saffron', 'Egg, Onion, Tomato, Chilli, Capsicum, Ginger, Coriander Leaves, Curry Leaves, Ghee, Jeera, Red Chilli Powder, Turmeric Powder, Salt, Butter', 'Raw Mango, Oil, Fennel Seeds, Fenugreek Seeds, Red Chilli Powder, Turmeric Powder, Salt', 'Ladys Finger, Onion, Tomato, Curry Leaves, Red Chilli Powder, Turmeric Powder, Coriander Powder, Salt, Coriander Leaves', 'Red Kidney Beans, Onion, Tomato, Ginger, Garam Masala, Turmeric, Oil, Coriander Leaves, Salt, Coriander Powder, Cumin Powder, Black Pepper', 'Curd, Turmeric Powder, Grated Coconut, Green Chilli, Shallots, Ginger, Channa Dal, Cumin Seeds, Oil, Red Chilli, Asafoetida, Curry Leaves', 'Milk, Sugar, All Purpose Flour (Maida), Rose Water, Lime Juice, Green Cardamom, Water']\n"
     ]
    }
   ],
   "source": [
    "print(list1)"
   ]
  },
  {
   "cell_type": "code",
   "execution_count": 63,
   "id": "310bdf84",
   "metadata": {},
   "outputs": [],
   "source": [
    "ingred = []\n",
    "for x in list1:\n",
    "    temp = x.split(\",\")\n",
    "    for i in temp:\n",
    "        if i not in ingred:\n",
    "            ingred.append(i)"
   ]
  },
  {
   "cell_type": "code",
   "execution_count": 114,
   "id": "01ecdd54",
   "metadata": {},
   "outputs": [
    {
     "data": {
      "text/plain": [
       "['Red Kidney Beans',\n",
       " ' Red Chilli Powder',\n",
       " ' Butter',\n",
       " ' Large Onion',\n",
       " ' Tomato',\n",
       " ' Fresh Cream',\n",
       " ' Ginger Paste',\n",
       " ' Salt',\n",
       " ' Oil',\n",
       " ' Green Chilli',\n",
       " ' Garam Masala Powder',\n",
       " ' Urad Dal',\n",
       " ' Garlic Paste',\n",
       " ' Water',\n",
       " 'Carrot',\n",
       " ' Beans',\n",
       " ' Onion',\n",
       " ' Brinjal',\n",
       " ' Drumstick',\n",
       " ' Toor Dal',\n",
       " ' Tamarind',\n",
       " ' Chana Dal',\n",
       " ' Red Chilli',\n",
       " ' Grated Coconut',\n",
       " ' Shallots',\n",
       " ' Powdered Turmeric',\n",
       " ' Fenugreek Seeds',\n",
       " ' Coriander Seeds',\n",
       " ' Garlic',\n",
       " 'Butter',\n",
       " ' Sugar',\n",
       " ' Whole Wheat',\n",
       " ' Dry Yeast',\n",
       " ' Yoghurt',\n",
       " 'Chicken',\n",
       " ' Bell Pepper',\n",
       " ' Chilli Powder',\n",
       " ' Coriander Powder',\n",
       " ' Cumin Powder',\n",
       " ' Kasoori methi Powder',\n",
       " ' Lemon Juice',\n",
       " ' Paprika',\n",
       " ' Caraway seeds',\n",
       " 'Paneer',\n",
       " ' Cashew Nut Paste',\n",
       " ' Kasoori Methi Powder',\n",
       " ' Chaat masala Powder',\n",
       " ' Ghee',\n",
       " ' Honey',\n",
       " 'Basmati Rice',\n",
       " ' Mint Leaves',\n",
       " ' Cardamom',\n",
       " ' Clove',\n",
       " ' Oniion',\n",
       " ' Turmeric',\n",
       " ' Garllic Paste',\n",
       " ' Hung Curd',\n",
       " ' Coriander Leaves',\n",
       " ' Chicken',\n",
       " ' Saffron',\n",
       " ' Bay Leaf',\n",
       " ' Cumin Seeds',\n",
       " ' Chillies',\n",
       " ' Ginger',\n",
       " ' Kewra',\n",
       " ' Rose Water',\n",
       " ' Green Cardamom',\n",
       " ' Corn Flour',\n",
       " ' Almonds',\n",
       " ' Khoya',\n",
       " ' Pepper Powder',\n",
       " ' All Purpose Flour (Maida)',\n",
       " ' Cashews',\n",
       " ' Raisins',\n",
       " ' Chili Oil',\n",
       " 'Idli Rice',\n",
       " 'Wheat Flour',\n",
       " ' Atta Flour',\n",
       " 'Urad Dal',\n",
       " ' Rice',\n",
       " ' Kala Chana',\n",
       " 'Cashew',\n",
       " ' Green Chillies',\n",
       " ' Fenugreek Leaves',\n",
       " ' Silver Vark',\n",
       " 'Lamb Trotters',\n",
       " ' Black Pepper',\n",
       " 'Keema',\n",
       " ' Ginger Garlic Paste',\n",
       " ' Dal',\n",
       " ' Curry Leaves',\n",
       " ' Cloves',\n",
       " ' Cinnamon Sticks',\n",
       " ' Coriander',\n",
       " ' Cardamoms',\n",
       " ' Fennel Seeds',\n",
       " 'Rice',\n",
       " ' Asafoetida',\n",
       " ' Moong Dal',\n",
       " 'Potato',\n",
       " ' Pea',\n",
       " ' Garam Masala',\n",
       " 'Chicken Leg',\n",
       " ' Spinach',\n",
       " 'Beetroot',\n",
       " ' Cream Milk',\n",
       " ' Dry Fruits',\n",
       " 'Maida',\n",
       " ' Wheat Flour',\n",
       " ' Baking Soda',\n",
       " ' Pistachio Sultanas',\n",
       " 'Egg',\n",
       " ' Chilli',\n",
       " ' Capsicum',\n",
       " ' Jeera',\n",
       " ' Turmeric Powder',\n",
       " 'Raw Mango',\n",
       " 'Ladys Finger',\n",
       " 'Curd',\n",
       " ' Channa Dal',\n",
       " 'Milk',\n",
       " ' Lime Juice']"
      ]
     },
     "execution_count": 114,
     "metadata": {},
     "output_type": "execute_result"
    }
   ],
   "source": [
    "ingred"
   ]
  },
  {
   "cell_type": "code",
   "execution_count": 39,
   "id": "2760436b",
   "metadata": {},
   "outputs": [],
   "source": [
    "ingred_lst= [x.strip() for x in ingred]"
   ]
  },
  {
   "cell_type": "code",
   "execution_count": 40,
   "id": "449303f8",
   "metadata": {},
   "outputs": [
    {
     "data": {
      "text/plain": [
       "['Red Kidney Beans',\n",
       " 'Red Chilli Powder',\n",
       " 'Butter',\n",
       " 'Large Onion',\n",
       " 'Tomato',\n",
       " 'Fresh Cream',\n",
       " 'Ginger Paste',\n",
       " 'Salt',\n",
       " 'Oil',\n",
       " 'Green Chilli',\n",
       " 'Garam Masala Powder',\n",
       " 'Urad Dal',\n",
       " 'Garlic Paste',\n",
       " 'Water',\n",
       " 'Carrot',\n",
       " 'Beans',\n",
       " 'Onion',\n",
       " 'Brinjal',\n",
       " 'Drumstick',\n",
       " 'Toor Dal',\n",
       " 'Tamarind',\n",
       " 'Chana Dal',\n",
       " 'Red Chilli',\n",
       " 'Grated Coconut',\n",
       " 'Shallots',\n",
       " 'Powdered Turmeric',\n",
       " 'Fenugreek Seeds',\n",
       " 'Coriander Seeds',\n",
       " 'Garlic',\n",
       " 'Butter',\n",
       " 'Sugar',\n",
       " 'Whole Wheat',\n",
       " 'Dry Yeast',\n",
       " 'Yoghurt',\n",
       " 'Chicken',\n",
       " 'Bell Pepper',\n",
       " 'Chilli Powder',\n",
       " 'Coriander Powder',\n",
       " 'Cumin Powder',\n",
       " 'Kasoori methi Powder',\n",
       " 'Lemon Juice',\n",
       " 'Paprika',\n",
       " 'Caraway seeds',\n",
       " 'Paneer',\n",
       " 'Cashew Nut Paste',\n",
       " 'Kasoori Methi Powder',\n",
       " 'Chaat masala Powder',\n",
       " 'Ghee',\n",
       " 'Honey',\n",
       " 'Basmati Rice',\n",
       " 'Mint Leaves',\n",
       " 'Cardamom',\n",
       " 'Clove',\n",
       " 'Oniion',\n",
       " 'Turmeric',\n",
       " 'Garllic Paste',\n",
       " 'Hung Curd',\n",
       " 'Coriander Leaves',\n",
       " 'Chicken',\n",
       " 'Saffron',\n",
       " 'Bay Leaf',\n",
       " 'Cumin Seeds',\n",
       " 'Chillies',\n",
       " 'Ginger',\n",
       " 'Kewra',\n",
       " 'Rose Water',\n",
       " 'Green Cardamom',\n",
       " 'Corn Flour',\n",
       " 'Almonds',\n",
       " 'Khoya',\n",
       " 'Pepper Powder',\n",
       " 'All Purpose Flour (Maida)',\n",
       " 'Cashews',\n",
       " 'Raisins',\n",
       " 'Chili Oil',\n",
       " 'Idli Rice',\n",
       " 'Wheat Flour',\n",
       " 'Atta Flour',\n",
       " 'Urad Dal',\n",
       " 'Rice',\n",
       " 'Kala Chana',\n",
       " 'Cashew',\n",
       " 'Green Chillies',\n",
       " 'Fenugreek Leaves',\n",
       " 'Silver Vark',\n",
       " 'Lamb Trotters',\n",
       " 'Black Pepper',\n",
       " 'Keema',\n",
       " 'Ginger Garlic Paste',\n",
       " 'Dal',\n",
       " 'Curry Leaves',\n",
       " 'Cloves',\n",
       " 'Cinnamon Sticks',\n",
       " 'Coriander',\n",
       " 'Cardamoms',\n",
       " 'Fennel Seeds',\n",
       " 'Rice',\n",
       " 'Asafoetida',\n",
       " 'Moong Dal',\n",
       " 'Potato',\n",
       " 'Pea',\n",
       " 'Garam Masala',\n",
       " 'Chicken Leg',\n",
       " 'Spinach',\n",
       " 'Beetroot',\n",
       " 'Cream Milk',\n",
       " 'Dry Fruits',\n",
       " 'Maida',\n",
       " 'Wheat Flour',\n",
       " 'Baking Soda',\n",
       " 'Pistachio Sultanas',\n",
       " 'Egg',\n",
       " 'Chilli',\n",
       " 'Capsicum',\n",
       " 'Jeera',\n",
       " 'Turmeric Powder',\n",
       " 'Raw Mango',\n",
       " 'Ladys Finger',\n",
       " 'Curd',\n",
       " 'Channa Dal',\n",
       " 'Milk',\n",
       " 'Lime Juice']"
      ]
     },
     "execution_count": 40,
     "metadata": {},
     "output_type": "execute_result"
    }
   ],
   "source": [
    "ingred_lst"
   ]
  },
  {
   "cell_type": "code",
   "execution_count": 32,
   "id": "2d26c65d",
   "metadata": {},
   "outputs": [
    {
     "data": {
      "text/plain": [
       "122"
      ]
     },
     "execution_count": 32,
     "metadata": {},
     "output_type": "execute_result"
    }
   ],
   "source": [
    "len(ingred_lst)"
   ]
  },
  {
   "cell_type": "code",
   "execution_count": null,
   "id": "42589f41",
   "metadata": {},
   "outputs": [],
   "source": []
  },
  {
   "cell_type": "code",
   "execution_count": null,
   "id": "e058ace7",
   "metadata": {},
   "outputs": [],
   "source": []
  },
  {
   "cell_type": "code",
   "execution_count": null,
   "id": "f4bcccbe",
   "metadata": {},
   "outputs": [],
   "source": []
  },
  {
   "cell_type": "code",
   "execution_count": null,
   "id": "dc431071",
   "metadata": {},
   "outputs": [],
   "source": []
  },
  {
   "cell_type": "code",
   "execution_count": null,
   "id": "b8abd935",
   "metadata": {},
   "outputs": [],
   "source": [
    "\n",
    "        "
   ]
  },
  {
   "cell_type": "code",
   "execution_count": null,
   "id": "beeeac87",
   "metadata": {},
   "outputs": [],
   "source": []
  },
  {
   "cell_type": "code",
   "execution_count": null,
   "id": "fa56f53a",
   "metadata": {},
   "outputs": [],
   "source": []
  },
  {
   "cell_type": "code",
   "execution_count": null,
   "id": "fac3041f",
   "metadata": {},
   "outputs": [],
   "source": []
  },
  {
   "cell_type": "code",
   "execution_count": 42,
   "id": "e7bf7948",
   "metadata": {},
   "outputs": [
    {
     "data": {
      "text/plain": [
       "['Red Kidney Beans',\n",
       " 'Red Chilli Powder',\n",
       " 'Butter',\n",
       " 'Large Onion',\n",
       " 'Tomato',\n",
       " 'Fresh Cream',\n",
       " 'Ginger Paste',\n",
       " 'Salt',\n",
       " 'Oil',\n",
       " 'Green Chilli',\n",
       " 'Garam Masala Powder',\n",
       " 'Urad Dal',\n",
       " 'Garlic Paste',\n",
       " 'Water',\n",
       " 'Carrot',\n",
       " 'Beans',\n",
       " 'Onion',\n",
       " 'Brinjal',\n",
       " 'Drumstick',\n",
       " 'Toor Dal',\n",
       " 'Tamarind',\n",
       " 'Chana Dal',\n",
       " 'Red Chilli',\n",
       " 'Grated Coconut',\n",
       " 'Shallots',\n",
       " 'Powdered Turmeric',\n",
       " 'Fenugreek Seeds',\n",
       " 'Coriander Seeds',\n",
       " 'Garlic',\n",
       " 'Butter',\n",
       " 'Sugar',\n",
       " 'Whole Wheat',\n",
       " 'Dry Yeast',\n",
       " 'Yoghurt',\n",
       " 'Chicken',\n",
       " 'Bell Pepper',\n",
       " 'Chilli Powder',\n",
       " 'Coriander Powder',\n",
       " 'Cumin Powder',\n",
       " 'Kasoori methi Powder',\n",
       " 'Lemon Juice',\n",
       " 'Paprika',\n",
       " 'Caraway seeds',\n",
       " 'Paneer',\n",
       " 'Cashew Nut Paste',\n",
       " 'Kasoori Methi Powder',\n",
       " 'Chaat masala Powder',\n",
       " 'Ghee',\n",
       " 'Honey',\n",
       " 'Basmati Rice',\n",
       " 'Mint Leaves',\n",
       " 'Cardamom',\n",
       " 'Clove',\n",
       " 'Oniion',\n",
       " 'Turmeric',\n",
       " 'Garllic Paste',\n",
       " 'Hung Curd',\n",
       " 'Coriander Leaves',\n",
       " 'Chicken',\n",
       " 'Saffron',\n",
       " 'Bay Leaf',\n",
       " 'Cumin Seeds',\n",
       " 'Chillies',\n",
       " 'Ginger',\n",
       " 'Kewra',\n",
       " 'Rose Water',\n",
       " 'Green Cardamom',\n",
       " 'Corn Flour',\n",
       " 'Almonds',\n",
       " 'Khoya',\n",
       " 'Pepper Powder',\n",
       " 'All Purpose Flour (Maida)',\n",
       " 'Cashews',\n",
       " 'Raisins',\n",
       " 'Chili Oil',\n",
       " 'Idli Rice',\n",
       " 'Wheat Flour',\n",
       " 'Atta Flour',\n",
       " 'Urad Dal',\n",
       " 'Rice',\n",
       " 'Kala Chana',\n",
       " 'Cashew',\n",
       " 'Green Chillies',\n",
       " 'Fenugreek Leaves',\n",
       " 'Silver Vark',\n",
       " 'Lamb Trotters',\n",
       " 'Black Pepper',\n",
       " 'Keema',\n",
       " 'Ginger Garlic Paste',\n",
       " 'Dal',\n",
       " 'Curry Leaves',\n",
       " 'Cloves',\n",
       " 'Cinnamon Sticks',\n",
       " 'Coriander',\n",
       " 'Cardamoms',\n",
       " 'Fennel Seeds',\n",
       " 'Rice',\n",
       " 'Asafoetida',\n",
       " 'Moong Dal',\n",
       " 'Potato',\n",
       " 'Pea',\n",
       " 'Garam Masala',\n",
       " 'Chicken Leg',\n",
       " 'Spinach',\n",
       " 'Beetroot',\n",
       " 'Cream Milk',\n",
       " 'Dry Fruits',\n",
       " 'Maida',\n",
       " 'Wheat Flour',\n",
       " 'Baking Soda',\n",
       " 'Pistachio Sultanas',\n",
       " 'Egg',\n",
       " 'Chilli',\n",
       " 'Capsicum',\n",
       " 'Jeera',\n",
       " 'Turmeric Powder',\n",
       " 'Raw Mango',\n",
       " 'Ladys Finger',\n",
       " 'Curd',\n",
       " 'Channa Dal',\n",
       " 'Milk',\n",
       " 'Lime Juice']"
      ]
     },
     "execution_count": 42,
     "metadata": {},
     "output_type": "execute_result"
    }
   ],
   "source": [
    "ingred_lst"
   ]
  },
  {
   "cell_type": "code",
   "execution_count": null,
   "id": "c6596d07",
   "metadata": {},
   "outputs": [],
   "source": []
  },
  {
   "cell_type": "code",
   "execution_count": null,
   "id": "fcdbc23a",
   "metadata": {},
   "outputs": [],
   "source": []
  },
  {
   "cell_type": "code",
   "execution_count": 37,
   "id": "81db8aad",
   "metadata": {},
   "outputs": [
    {
     "ename": "NameError",
     "evalue": "name 'ingred_lst' is not defined",
     "output_type": "error",
     "traceback": [
      "\u001b[1;31m---------------------------------------------------------------------------\u001b[0m",
      "\u001b[1;31mNameError\u001b[0m                                 Traceback (most recent call last)",
      "\u001b[1;32m~\\AppData\\Local\\Temp\\ipykernel_28932\\4178842996.py\u001b[0m in \u001b[0;36m<module>\u001b[1;34m\u001b[0m\n\u001b[0;32m      3\u001b[0m     \u001b[1;31m#if i in df.Ingredients\u001b[0m\u001b[1;33m\u001b[0m\u001b[1;33m\u001b[0m\u001b[0m\n\u001b[0;32m      4\u001b[0m \u001b[0mmy_data\u001b[0m \u001b[1;33m=\u001b[0m \u001b[0mpd\u001b[0m\u001b[1;33m.\u001b[0m\u001b[0mDataFrame\u001b[0m\u001b[1;33m(\u001b[0m\u001b[1;33m[\u001b[0m\u001b[0mmy_list\u001b[0m\u001b[1;33m]\u001b[0m\u001b[1;33m)\u001b[0m                \u001b[1;31m# Each list element as column\u001b[0m\u001b[1;33m\u001b[0m\u001b[1;33m\u001b[0m\u001b[0m\n\u001b[1;32m----> 5\u001b[1;33m \u001b[0mmy_data\u001b[0m\u001b[1;33m.\u001b[0m\u001b[0mcolumns\u001b[0m \u001b[1;33m=\u001b[0m \u001b[0mingred_lst\u001b[0m                     \u001b[1;31m# Change column names\u001b[0m\u001b[1;33m\u001b[0m\u001b[1;33m\u001b[0m\u001b[0m\n\u001b[0m\u001b[0;32m      6\u001b[0m \u001b[0mprint\u001b[0m\u001b[1;33m(\u001b[0m\u001b[0mmy_data\u001b[0m\u001b[1;33m)\u001b[0m\u001b[1;33m\u001b[0m\u001b[1;33m\u001b[0m\u001b[0m\n",
      "\u001b[1;31mNameError\u001b[0m: name 'ingred_lst' is not defined"
     ]
    }
   ],
   "source": [
    "my_list = []                         \n",
    "#for i in ingred_lst:\n",
    "    #if i in df.Ingredients\n",
    "my_data = pd.DataFrame([my_list])                # Each list element as column\n",
    "my_data.columns = ingred_lst                     # Change column names\n",
    "print(my_data)  "
   ]
  },
  {
   "cell_type": "code",
   "execution_count": 11,
   "id": "353b348a",
   "metadata": {},
   "outputs": [
    {
     "ename": "NameError",
     "evalue": "name 'ingred_lst' is not defined",
     "output_type": "error",
     "traceback": [
      "\u001b[1;31m---------------------------------------------------------------------------\u001b[0m",
      "\u001b[1;31mNameError\u001b[0m                                 Traceback (most recent call last)",
      "\u001b[1;32m~\\AppData\\Local\\Temp\\ipykernel_1964\\2194669708.py\u001b[0m in \u001b[0;36m<module>\u001b[1;34m\u001b[0m\n\u001b[1;32m----> 1\u001b[1;33m \u001b[0mingred_lst\u001b[0m\u001b[1;33m\u001b[0m\u001b[1;33m\u001b[0m\u001b[0m\n\u001b[0m\u001b[0;32m      2\u001b[0m \u001b[0mlen\u001b[0m\u001b[1;33m(\u001b[0m\u001b[0mingred_lst\u001b[0m\u001b[1;33m)\u001b[0m\u001b[1;33m\u001b[0m\u001b[1;33m\u001b[0m\u001b[0m\n",
      "\u001b[1;31mNameError\u001b[0m: name 'ingred_lst' is not defined"
     ]
    }
   ],
   "source": [
    "ingred_lst\n",
    "len(ingred_lst)"
   ]
  },
  {
   "cell_type": "code",
   "execution_count": 115,
   "id": "2050bac1",
   "metadata": {},
   "outputs": [
    {
     "data": {
      "text/plain": [
       "0     Red Kidney Beans, Red Chilli Powder, Butter, L...\n",
       "1     Carrot, Beans, Tomato, Onion, Brinjal, Drumsti...\n",
       "2     Butter, Sugar, Whole Wheat, Salt, Dry Yeast, Y...\n",
       "3     Chicken, Onion, Bell Pepper, Oil, Yoghurt, Chi...\n",
       "4     Paneer, Garlic Paste, Cashew Nut Paste, Fresh ...\n",
       "5     Basmati Rice, Mint Leaves, Salt, Oil, Cardamom...\n",
       "6     Paneer, Green Cardamom, Sugar, Corn Flour, Alm...\n",
       "7     Idli Rice, Urad Dal, Fenugreek Seeds, Salt, Oi...\n",
       "8             Wheat Flour, Atta Flour, Salt, Oil, Water\n",
       "9     Idli Rice, Fenugreek Seeds, Oil, Urad Dal, Sal...\n",
       "10                       Wheat Flour, Water, Ghee, Salt\n",
       "11    Urad Dal, Green Chilli, Oil, Rice, Coriander L...\n",
       "12    Cashew, Tomato, Garlic, Green Chillies, Salt, ...\n",
       "13    Cashew, Sugar, Ghee, Water, Silver Vark, Green...\n",
       "14    Lamb Trotters, Salt, Green Cardamom, Onion, Gi...\n",
       "15    Keema, Ginger Garlic Paste, Red Chilli Powder,...\n",
       "16    Rice, Ghee, Asafoetida, Curry Leaves, Cashews,...\n",
       "17    Potato, Turmeric, Ginger, Cumin Seeds, Green C...\n",
       "18    Paneer, Pea, Onion, Oil, Coriander Leaves, Cur...\n",
       "19    Chicken Leg, Garam Masala, Onion, Coriander Le...\n",
       "20    Paneer, Spinach, Cumin Seeds, Red Chilli, Onio...\n",
       "21    Beetroot, Cream Milk, Ghee, Khoya, Sugar, Gree...\n",
       "22    Maida, Wheat Flour, Oil, Baking Soda, Sugar, S...\n",
       "23    Rice, Cream Milk, Sugar, Green Cardamom, Almon...\n",
       "24    Egg, Onion, Tomato, Chilli, Capsicum, Ginger, ...\n",
       "25    Raw Mango, Oil, Fennel Seeds, Fenugreek Seeds,...\n",
       "26    Ladys Finger, Onion, Tomato, Curry Leaves, Red...\n",
       "27    Red Kidney Beans, Onion, Tomato, Ginger, Garam...\n",
       "28    Curd, Turmeric Powder, Grated Coconut, Green C...\n",
       "29    Milk, Sugar, All Purpose Flour (Maida), Rose W...\n",
       "Name: Ingredients, dtype: object"
      ]
     },
     "execution_count": 115,
     "metadata": {},
     "output_type": "execute_result"
    }
   ],
   "source": [
    "ingredient_uses = df.Ingredients\n",
    "ingredient_uses"
   ]
  },
  {
   "cell_type": "code",
   "execution_count": 14,
   "id": "a285460e",
   "metadata": {},
   "outputs": [],
   "source": [
    "ingredient_uses.to_csv('ingredient_uses.csv',index=False)"
   ]
  },
  {
   "cell_type": "code",
   "execution_count": 15,
   "id": "d74e05fb",
   "metadata": {},
   "outputs": [
    {
     "data": {
      "text/plain": [
       "0     Red Kidney Beans, Red Chilli Powder, Butter, L...\n",
       "1     Carrot, Beans, Tomato, Onion, Brinjal, Drumsti...\n",
       "2     Butter, Sugar, Whole Wheat, Salt, Dry Yeast, Y...\n",
       "3     Chicken, Onion, Bell Pepper, Oil, Yoghurt, Chi...\n",
       "4     Paneer, Garlic Paste, Cashew Nut Paste, Fresh ...\n",
       "5     Basmati Rice, Mint Leaves, Salt, Oil, Cardamom...\n",
       "6     Paneer, Green Cardamom, Sugar, Corn Flour, Alm...\n",
       "7     Idli Rice, Urad Dal, Fenugreek Seeds, Salt, Oi...\n",
       "8             Wheat Flour, Atta Flour, Salt, Oil, Water\n",
       "9     Idli Rice, Fenugreek Seeds, Oil, Urad Dal, Sal...\n",
       "10                       Wheat Flour, Water, Ghee, Salt\n",
       "11    Urad Dal, Green Chilli, Oil, Rice, Coriander L...\n",
       "12    Cashew, Tomato, Garlic, Green Chillies, Salt, ...\n",
       "13    Cashew, Sugar, Ghee, Water, Silver Vark, Green...\n",
       "14    Lamb Trotters, Salt, Green Cardamom, Onion, Gi...\n",
       "15    Keema, Ginger Garlic Paste, Red Chilli Powder,...\n",
       "16    Rice, Ghee, Asafoetida, Curry Leaves, Cashews,...\n",
       "17    Potato, Turmeric, Ginger, Cumin Seeds, Green C...\n",
       "18    Paneer, Pea, Onion, Oil, Coriander Leaves, Cur...\n",
       "19    Chicken Leg, Garam Masala, Onion, Coriander Le...\n",
       "20    Paneer, Spinach, Cumin Seeds, Red Chilli, Onio...\n",
       "21    Beetroot, Cream Milk, Ghee, Khoya, Sugar, Gree...\n",
       "22    Maida, Wheat Flour, Oil, Baking Soda, Sugar, S...\n",
       "23    Rice, Cream Milk, Sugar, Green Cardamom, Almon...\n",
       "24    Egg, Onion, Tomato, Chilli, Capsicum, Ginger, ...\n",
       "25    Raw Mango, Oil, Fennel Seeds, Fenugreek Seeds,...\n",
       "26    Ladys Finger, Onion, Tomato, Curry Leaves, Red...\n",
       "27    Red Kidney Beans, Onion, Tomato, Ginger, Garam...\n",
       "28    Curd, Turmeric Powder, Grated Coconut, Green C...\n",
       "29    Milk, Sugar, All Purpose Flour (Maida), Rose W...\n",
       "Name: Ingredients, dtype: object"
      ]
     },
     "execution_count": 15,
     "metadata": {},
     "output_type": "execute_result"
    }
   ],
   "source": [
    "ingredient_uses"
   ]
  },
  {
   "cell_type": "code",
   "execution_count": 57,
   "id": "44a2723b",
   "metadata": {},
   "outputs": [
    {
     "ename": "AttributeError",
     "evalue": "'Series' object has no attribute 'Ingredients'",
     "output_type": "error",
     "traceback": [
      "\u001b[1;31m---------------------------------------------------------------------------\u001b[0m",
      "\u001b[1;31mAttributeError\u001b[0m                            Traceback (most recent call last)",
      "\u001b[1;32m~\\AppData\\Local\\Temp\\ipykernel_28932\\3485232188.py\u001b[0m in \u001b[0;36m<module>\u001b[1;34m\u001b[0m\n\u001b[1;32m----> 1\u001b[1;33m \u001b[0mingredient_frequencies\u001b[0m \u001b[1;33m=\u001b[0m \u001b[0mingredient_uses\u001b[0m\u001b[1;33m.\u001b[0m\u001b[0mIngredients\u001b[0m\u001b[1;33m.\u001b[0m\u001b[0mvalue_counts\u001b[0m\u001b[1;33m(\u001b[0m\u001b[1;33m)\u001b[0m\u001b[1;33m\u001b[0m\u001b[1;33m\u001b[0m\u001b[0m\n\u001b[0m",
      "\u001b[1;32mD:\\anaconda3\\lib\\site-packages\\pandas\\core\\generic.py\u001b[0m in \u001b[0;36m__getattr__\u001b[1;34m(self, name)\u001b[0m\n\u001b[0;32m   5573\u001b[0m         ):\n\u001b[0;32m   5574\u001b[0m             \u001b[1;32mreturn\u001b[0m \u001b[0mself\u001b[0m\u001b[1;33m[\u001b[0m\u001b[0mname\u001b[0m\u001b[1;33m]\u001b[0m\u001b[1;33m\u001b[0m\u001b[1;33m\u001b[0m\u001b[0m\n\u001b[1;32m-> 5575\u001b[1;33m         \u001b[1;32mreturn\u001b[0m \u001b[0mobject\u001b[0m\u001b[1;33m.\u001b[0m\u001b[0m__getattribute__\u001b[0m\u001b[1;33m(\u001b[0m\u001b[0mself\u001b[0m\u001b[1;33m,\u001b[0m \u001b[0mname\u001b[0m\u001b[1;33m)\u001b[0m\u001b[1;33m\u001b[0m\u001b[1;33m\u001b[0m\u001b[0m\n\u001b[0m\u001b[0;32m   5576\u001b[0m \u001b[1;33m\u001b[0m\u001b[0m\n\u001b[0;32m   5577\u001b[0m     \u001b[1;32mdef\u001b[0m \u001b[0m__setattr__\u001b[0m\u001b[1;33m(\u001b[0m\u001b[0mself\u001b[0m\u001b[1;33m,\u001b[0m \u001b[0mname\u001b[0m\u001b[1;33m:\u001b[0m \u001b[0mstr\u001b[0m\u001b[1;33m,\u001b[0m \u001b[0mvalue\u001b[0m\u001b[1;33m)\u001b[0m \u001b[1;33m->\u001b[0m \u001b[1;32mNone\u001b[0m\u001b[1;33m:\u001b[0m\u001b[1;33m\u001b[0m\u001b[1;33m\u001b[0m\u001b[0m\n",
      "\u001b[1;31mAttributeError\u001b[0m: 'Series' object has no attribute 'Ingredients'"
     ]
    }
   ],
   "source": [
    "ingredient_frequencies = ingred.Ingredients.value_counts()"
   ]
  },
  {
   "cell_type": "code",
   "execution_count": 58,
   "id": "e4bac654",
   "metadata": {},
   "outputs": [],
   "source": [
    "ing=ingredient_frequencies.head(30)"
   ]
  },
  {
   "cell_type": "code",
   "execution_count": null,
   "id": "55adcfb0",
   "metadata": {},
   "outputs": [],
   "source": []
  },
  {
   "cell_type": "code",
   "execution_count": 12,
   "id": "d2acc7a8",
   "metadata": {},
   "outputs": [],
   "source": [
    "import matplotlib.pyplot as plt\n",
    "%matplotlib inline\n",
    "import seaborn as sns\n",
    "import os"
   ]
  },
  {
   "cell_type": "code",
   "execution_count": null,
   "id": "5b5d263f",
   "metadata": {},
   "outputs": [],
   "source": []
  },
  {
   "cell_type": "code",
   "execution_count": 13,
   "id": "590525d5",
   "metadata": {},
   "outputs": [],
   "source": [
    "ingre = []\n",
    "for x in list1:\n",
    "    temp = x.split(\",\")\n",
    "    for i in temp:\n",
    "        ingre.append(i)"
   ]
  },
  {
   "cell_type": "raw",
   "id": "c7f2a472",
   "metadata": {},
   "source": []
  },
  {
   "cell_type": "code",
   "execution_count": 14,
   "id": "768a72c2",
   "metadata": {},
   "outputs": [
    {
     "data": {
      "text/plain": [
       "['Red Kidney Beans',\n",
       " ' Red Chilli Powder',\n",
       " ' Butter',\n",
       " ' Large Onion',\n",
       " ' Tomato',\n",
       " ' Fresh Cream',\n",
       " ' Ginger Paste',\n",
       " ' Salt',\n",
       " ' Oil',\n",
       " ' Green Chilli',\n",
       " ' Garam Masala Powder',\n",
       " ' Urad Dal',\n",
       " ' Garlic Paste',\n",
       " ' Water',\n",
       " 'Basmati Rice',\n",
       " ' Mint Leaves',\n",
       " ' Salt',\n",
       " ' Oil',\n",
       " ' Cardamom',\n",
       " ' Clove',\n",
       " ' Oniion',\n",
       " ' Turmeric',\n",
       " ' Garllic Paste',\n",
       " ' Hung Curd',\n",
       " ' Coriander Leaves',\n",
       " ' Water',\n",
       " ' Ghee',\n",
       " ' Chicken',\n",
       " ' Garam Masala Powder',\n",
       " ' Saffron',\n",
       " ' Bay Leaf',\n",
       " ' Cardamom',\n",
       " ' Cumin Seeds',\n",
       " ' Chillies',\n",
       " ' Ginger Paste',\n",
       " ' Red Chilli Powder',\n",
       " ' Ginger',\n",
       " ' Kewra',\n",
       " ' Rose Water',\n",
       " 'Wheat Flour',\n",
       " ' Atta Flour',\n",
       " ' Salt',\n",
       " ' Oil',\n",
       " ' Water',\n",
       " 'Urad Dal',\n",
       " ' Green Chilli',\n",
       " ' Oil',\n",
       " ' Rice',\n",
       " ' Coriander Leaves',\n",
       " ' Salt',\n",
       " ' Kala Chana',\n",
       " 'Cashew',\n",
       " ' Sugar',\n",
       " ' Ghee',\n",
       " ' Water',\n",
       " ' Silver Vark',\n",
       " ' Green Cardamom',\n",
       " 'Potato',\n",
       " ' Turmeric',\n",
       " ' Ginger',\n",
       " ' Cumin Seeds',\n",
       " ' Green Chilli',\n",
       " ' Oil',\n",
       " ' Curry Leaves',\n",
       " ' Salt',\n",
       " 'Paneer',\n",
       " ' Pea',\n",
       " ' Onion',\n",
       " ' Oil',\n",
       " ' Coriander Leaves',\n",
       " ' Curry Leaves',\n",
       " ' Red Chilli Powder',\n",
       " ' Green Chilli',\n",
       " ' Garam Masala',\n",
       " ' Salt',\n",
       " ' Water',\n",
       " 'Chicken Leg',\n",
       " ' Garam Masala',\n",
       " ' Onion',\n",
       " ' Coriander Leaves',\n",
       " ' Salt',\n",
       " ' Coriander Powder',\n",
       " ' Oil',\n",
       " ' Corn Flour',\n",
       " ' Red Chilli Powder',\n",
       " 'Paneer',\n",
       " ' Spinach',\n",
       " ' Cumin Seeds',\n",
       " ' Red Chilli',\n",
       " ' Onion',\n",
       " ' Ginger',\n",
       " ' Garlic',\n",
       " ' Green Chilli',\n",
       " ' Salt',\n",
       " ' Ghee',\n",
       " ' Cumin Powder',\n",
       " ' Kasoori Methi Powder',\n",
       " ' Butter',\n",
       " ' Fresh Cream',\n",
       " ' Red Chilli Powder',\n",
       " 'Beetroot',\n",
       " ' Cream Milk',\n",
       " ' Ghee',\n",
       " ' Khoya',\n",
       " ' Sugar',\n",
       " ' Green Cardamom',\n",
       " ' Dry Fruits',\n",
       " 'Maida',\n",
       " ' Wheat Flour',\n",
       " ' Oil',\n",
       " ' Baking Soda',\n",
       " ' Sugar',\n",
       " ' Salt',\n",
       " ' Water',\n",
       " 'Egg',\n",
       " ' Onion',\n",
       " ' Tomato',\n",
       " ' Chilli',\n",
       " ' Capsicum',\n",
       " ' Ginger',\n",
       " ' Coriander Leaves',\n",
       " ' Curry Leaves',\n",
       " ' Ghee',\n",
       " ' Jeera',\n",
       " ' Red Chilli Powder',\n",
       " ' Turmeric Powder',\n",
       " ' Salt',\n",
       " ' Butter',\n",
       " 'Ladys Finger',\n",
       " ' Onion',\n",
       " ' Tomato',\n",
       " ' Curry Leaves',\n",
       " ' Red Chilli Powder',\n",
       " ' Turmeric Powder',\n",
       " ' Coriander Powder',\n",
       " ' Salt',\n",
       " ' Coriander Leaves',\n",
       " 'Milk',\n",
       " ' Sugar',\n",
       " ' All Purpose Flour (Maida)',\n",
       " ' Rose Water',\n",
       " ' Lime Juice',\n",
       " ' Green Cardamom',\n",
       " ' Water',\n",
       " 'purpose flour',\n",
       " ' hung curd',\n",
       " ' ghee',\n",
       " ' sugar',\n",
       " ' saffron',\n",
       " ' powdered green cardamom',\n",
       " ' corn flour',\n",
       " ' baking soda',\n",
       " ' sunflower oil',\n",
       " ' water',\n",
       " ' rose essence',\n",
       " ' edible food color']"
      ]
     },
     "execution_count": 14,
     "metadata": {},
     "output_type": "execute_result"
    }
   ],
   "source": [
    "ingre"
   ]
  },
  {
   "cell_type": "code",
   "execution_count": 15,
   "id": "090d2bd8",
   "metadata": {},
   "outputs": [
    {
     "data": {
      "text/plain": [
       "156"
      ]
     },
     "execution_count": 15,
     "metadata": {},
     "output_type": "execute_result"
    }
   ],
   "source": [
    "len(ingre)"
   ]
  },
  {
   "cell_type": "code",
   "execution_count": 16,
   "id": "a9f6e79d",
   "metadata": {},
   "outputs": [],
   "source": [
    "ingre1=[x.strip() for x in ingre]"
   ]
  },
  {
   "cell_type": "code",
   "execution_count": 17,
   "id": "053d36e3",
   "metadata": {},
   "outputs": [
    {
     "data": {
      "text/plain": [
       "['Red Kidney Beans',\n",
       " 'Red Chilli Powder',\n",
       " 'Butter',\n",
       " 'Large Onion',\n",
       " 'Tomato',\n",
       " 'Fresh Cream',\n",
       " 'Ginger Paste',\n",
       " 'Salt',\n",
       " 'Oil',\n",
       " 'Green Chilli',\n",
       " 'Garam Masala Powder',\n",
       " 'Urad Dal',\n",
       " 'Garlic Paste',\n",
       " 'Water',\n",
       " 'Basmati Rice',\n",
       " 'Mint Leaves',\n",
       " 'Salt',\n",
       " 'Oil',\n",
       " 'Cardamom',\n",
       " 'Clove',\n",
       " 'Oniion',\n",
       " 'Turmeric',\n",
       " 'Garllic Paste',\n",
       " 'Hung Curd',\n",
       " 'Coriander Leaves',\n",
       " 'Water',\n",
       " 'Ghee',\n",
       " 'Chicken',\n",
       " 'Garam Masala Powder',\n",
       " 'Saffron',\n",
       " 'Bay Leaf',\n",
       " 'Cardamom',\n",
       " 'Cumin Seeds',\n",
       " 'Chillies',\n",
       " 'Ginger Paste',\n",
       " 'Red Chilli Powder',\n",
       " 'Ginger',\n",
       " 'Kewra',\n",
       " 'Rose Water',\n",
       " 'Wheat Flour',\n",
       " 'Atta Flour',\n",
       " 'Salt',\n",
       " 'Oil',\n",
       " 'Water',\n",
       " 'Urad Dal',\n",
       " 'Green Chilli',\n",
       " 'Oil',\n",
       " 'Rice',\n",
       " 'Coriander Leaves',\n",
       " 'Salt',\n",
       " 'Kala Chana',\n",
       " 'Cashew',\n",
       " 'Sugar',\n",
       " 'Ghee',\n",
       " 'Water',\n",
       " 'Silver Vark',\n",
       " 'Green Cardamom',\n",
       " 'Potato',\n",
       " 'Turmeric',\n",
       " 'Ginger',\n",
       " 'Cumin Seeds',\n",
       " 'Green Chilli',\n",
       " 'Oil',\n",
       " 'Curry Leaves',\n",
       " 'Salt',\n",
       " 'Paneer',\n",
       " 'Pea',\n",
       " 'Onion',\n",
       " 'Oil',\n",
       " 'Coriander Leaves',\n",
       " 'Curry Leaves',\n",
       " 'Red Chilli Powder',\n",
       " 'Green Chilli',\n",
       " 'Garam Masala',\n",
       " 'Salt',\n",
       " 'Water',\n",
       " 'Chicken Leg',\n",
       " 'Garam Masala',\n",
       " 'Onion',\n",
       " 'Coriander Leaves',\n",
       " 'Salt',\n",
       " 'Coriander Powder',\n",
       " 'Oil',\n",
       " 'Corn Flour',\n",
       " 'Red Chilli Powder',\n",
       " 'Paneer',\n",
       " 'Spinach',\n",
       " 'Cumin Seeds',\n",
       " 'Red Chilli',\n",
       " 'Onion',\n",
       " 'Ginger',\n",
       " 'Garlic',\n",
       " 'Green Chilli',\n",
       " 'Salt',\n",
       " 'Ghee',\n",
       " 'Cumin Powder',\n",
       " 'Kasoori Methi Powder',\n",
       " 'Butter',\n",
       " 'Fresh Cream',\n",
       " 'Red Chilli Powder',\n",
       " 'Beetroot',\n",
       " 'Cream Milk',\n",
       " 'Ghee',\n",
       " 'Khoya',\n",
       " 'Sugar',\n",
       " 'Green Cardamom',\n",
       " 'Dry Fruits',\n",
       " 'Maida',\n",
       " 'Wheat Flour',\n",
       " 'Oil',\n",
       " 'Baking Soda',\n",
       " 'Sugar',\n",
       " 'Salt',\n",
       " 'Water',\n",
       " 'Egg',\n",
       " 'Onion',\n",
       " 'Tomato',\n",
       " 'Chilli',\n",
       " 'Capsicum',\n",
       " 'Ginger',\n",
       " 'Coriander Leaves',\n",
       " 'Curry Leaves',\n",
       " 'Ghee',\n",
       " 'Jeera',\n",
       " 'Red Chilli Powder',\n",
       " 'Turmeric Powder',\n",
       " 'Salt',\n",
       " 'Butter',\n",
       " 'Ladys Finger',\n",
       " 'Onion',\n",
       " 'Tomato',\n",
       " 'Curry Leaves',\n",
       " 'Red Chilli Powder',\n",
       " 'Turmeric Powder',\n",
       " 'Coriander Powder',\n",
       " 'Salt',\n",
       " 'Coriander Leaves',\n",
       " 'Milk',\n",
       " 'Sugar',\n",
       " 'All Purpose Flour (Maida)',\n",
       " 'Rose Water',\n",
       " 'Lime Juice',\n",
       " 'Green Cardamom',\n",
       " 'Water',\n",
       " 'purpose flour',\n",
       " 'hung curd',\n",
       " 'ghee',\n",
       " 'sugar',\n",
       " 'saffron',\n",
       " 'powdered green cardamom',\n",
       " 'corn flour',\n",
       " 'baking soda',\n",
       " 'sunflower oil',\n",
       " 'water',\n",
       " 'rose essence',\n",
       " 'edible food color']"
      ]
     },
     "execution_count": 17,
     "metadata": {},
     "output_type": "execute_result"
    }
   ],
   "source": [
    "ingre1"
   ]
  },
  {
   "cell_type": "code",
   "execution_count": 18,
   "id": "efaf0577",
   "metadata": {},
   "outputs": [
    {
     "name": "stdout",
     "output_type": "stream",
     "text": [
      "Salt                 11\n",
      "Oil                   8\n",
      "Red Chilli Powder     7\n",
      "Water                 7\n",
      "Coriander Leaves      6\n",
      "                     ..\n",
      "Corn Flour            1\n",
      "Spinach               1\n",
      "Red Chilli            1\n",
      "Garlic                1\n",
      "edible food color     1\n",
      "Length: 81, dtype: int64\n"
     ]
    }
   ],
   "source": [
    "s = pd.Series(data = ingre1)\n",
    "\n",
    "print(s.value_counts())"
   ]
  },
  {
   "cell_type": "code",
   "execution_count": 19,
   "id": "816ecf3c",
   "metadata": {},
   "outputs": [
    {
     "data": {
      "text/plain": [
       "<AxesSubplot:title={'center':'Most Common Ingredients'}>"
      ]
     },
     "execution_count": 19,
     "metadata": {},
     "output_type": "execute_result"
    },
    {
     "data": {
      "image/png": "[encoded data removed]",
      "text/plain": [
       "<Figure size 2000x2000 with 1 Axes>"
      ]
     },
     "metadata": {},
     "output_type": "display_data"
    }
   ],
   "source": [
    "plt.figure(figsize=(20,20))\n",
    "plt.title(\"Most Common Ingredients\")\n",
    "sns.barplot(x=s.value_counts(),y=s.value_counts().index)"
   ]
  },
  {
   "cell_type": "code",
   "execution_count": 79,
   "id": "d8246828",
   "metadata": {},
   "outputs": [
    {
     "data": {
      "text/plain": [
       "'Red Kidney Beans'"
      ]
     },
     "execution_count": 79,
     "metadata": {},
     "output_type": "execute_result"
    }
   ],
   "source": [
    "s[0]"
   ]
  },
  {
   "cell_type": "code",
   "execution_count": 80,
   "id": "6419cc55",
   "metadata": {},
   "outputs": [
    {
     "data": {
      "text/plain": [
       "'Idli Rice'"
      ]
     },
     "execution_count": 80,
     "metadata": {},
     "output_type": "execute_result"
    }
   ],
   "source": [
    "s[121]"
   ]
  },
  {
   "cell_type": "code",
   "execution_count": 81,
   "id": "2c6eec82",
   "metadata": {},
   "outputs": [
    {
     "data": {
      "text/plain": [
       "'Fenugreek Seeds'"
      ]
     },
     "execution_count": 81,
     "metadata": {},
     "output_type": "execute_result"
    }
   ],
   "source": [
    "s[122]"
   ]
  },
  {
   "cell_type": "code",
   "execution_count": 88,
   "id": "c92c3253",
   "metadata": {},
   "outputs": [
    {
     "data": {
      "text/plain": [
       "str"
      ]
     },
     "execution_count": 88,
     "metadata": {},
     "output_type": "execute_result"
    }
   ],
   "source": [
    "type(s[328])"
   ]
  },
  {
   "cell_type": "code",
   "execution_count": 84,
   "id": "86b7f638",
   "metadata": {},
   "outputs": [
    {
     "data": {
      "text/plain": [
       "329"
      ]
     },
     "execution_count": 84,
     "metadata": {},
     "output_type": "execute_result"
    }
   ],
   "source": [
    "len(s)"
   ]
  },
  {
   "cell_type": "code",
   "execution_count": 92,
   "id": "dab70c00",
   "metadata": {},
   "outputs": [],
   "source": [
    "li=[]\n",
    "co=0\n",
    "\n",
    "for x in range(0,328):\n",
    "    if s[x].strip() not in li:\n",
    "        li.append(s[x].strip())\n",
    "        \n",
    "        co+=1\n",
    "        "
   ]
  },
  {
   "cell_type": "code",
   "execution_count": 93,
   "id": "5eda6dd1",
   "metadata": {},
   "outputs": [
    {
     "data": {
      "text/plain": [
       "117"
      ]
     },
     "execution_count": 93,
     "metadata": {},
     "output_type": "execute_result"
    }
   ],
   "source": [
    "len(li)"
   ]
  },
  {
   "cell_type": "code",
   "execution_count": 97,
   "id": "45216a76",
   "metadata": {},
   "outputs": [],
   "source": [
    "z=set(ingred_lst).difference(set(li))"
   ]
  },
  {
   "cell_type": "code",
   "execution_count": 98,
   "id": "89f9393e",
   "metadata": {},
   "outputs": [
    {
     "data": {
      "text/plain": [
       "set()"
      ]
     },
     "execution_count": 98,
     "metadata": {},
     "output_type": "execute_result"
    }
   ],
   "source": [
    "z"
   ]
  },
  {
   "cell_type": "code",
   "execution_count": null,
   "id": "236f4fff",
   "metadata": {},
   "outputs": [],
   "source": []
  },
  {
   "cell_type": "code",
   "execution_count": 101,
   "id": "84ee6df9",
   "metadata": {},
   "outputs": [
    {
     "data": {
      "text/plain": [
       "117"
      ]
     },
     "execution_count": 101,
     "metadata": {},
     "output_type": "execute_result"
    }
   ],
   "source": [
    "len(set(ingred_lst))"
   ]
  },
  {
   "cell_type": "code",
   "execution_count": null,
   "id": "cdc2f174",
   "metadata": {},
   "outputs": [],
   "source": []
  },
  {
   "cell_type": "code",
   "execution_count": null,
   "id": "4dd2fb74",
   "metadata": {},
   "outputs": [],
   "source": []
  },
  {
   "cell_type": "code",
   "execution_count": null,
   "id": "b15554b5",
   "metadata": {},
   "outputs": [],
   "source": []
  },
  {
   "cell_type": "code",
   "execution_count": null,
   "id": "9ac5be04",
   "metadata": {},
   "outputs": [],
   "source": []
  }
 ],
 "metadata": {
  "kernelspec": {
   "display_name": "Python 3 (ipykernel)",
   "language": "python",
   "name": "python3"
  },
  "language_info": {
   "codemirror_mode": {
    "name": "ipython",
    "version": 3
   },
   "file_extension": ".py",
   "mimetype": "text/x-python",
   "name": "python",
   "nbconvert_exporter": "python",
   "pygments_lexer": "ipython3",
   "version": "3.9.13"
  }
 },
 "nbformat": 4,
 "nbformat_minor": 5
}
