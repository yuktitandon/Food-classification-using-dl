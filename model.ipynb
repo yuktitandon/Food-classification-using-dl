import numpy as np 
import matplotlib.pyplot as plt
import os
import pickle
import random
import tensorflow as tf

from tensorflow.keras.models import Sequential
from tensorflow.keras.layers import Dense, Dropout, Activation, Flatten, Conv2D, MaxPooling2D
from tensorflow.keras.utils import load_img
from tensorflow.keras.preprocessing.image import img_to_array
from tensorflow.keras import datasets, layers, models
from tensorflow.keras.preprocessing.image import array_to_img

DATADIR = "--folder--"
categories = ["mattar_paneer","Beetroot_Halwa","bhindi_fry", "butter_naan", "chicken_biryani", "chicken_lollipop", 
              "chicken_tikka", "dal_makhani", "dosa", "Egg_Burji", "jalebi", "jeera_aloo", "kaju_curry", "kaju_katli", 
              "kal_soup", "Kheer", "malai_kofta", "mor_kuzhambu", "mutton_kola", "Palak_Paneer", "paneer_butter_masala", 
              "paneer_tikka", "pani_puri", "Parotta", "poori", "rajma", "rasgulla", "sambar", "vada"]
training_data = []
def create_train():
    for cat in categories:
        path = os.path.join(DATADIR,cat)
        class_num = categories.index(cat)
        for img in os.listdir(path):
            try:
                img_a = load_img(os.path.join(DATADIR,cat,img))
                img_array = img_to_array(img_a)
                training_data.append([img_array,class_num])
            except Exception as e:
                pass
create_train()




random.shuffle(training_data)
X = []
y = []
for feat,label in training_data:
    X.append(feat)
    y.append(label)
X = np.array(X).reshape(-1,200,200,3)

pickle_out= open("X.pickle","wb")
pickle.dump(X,pickle_out)
pickle_out.close()

pickle_out=open("y.pickle","wb")
pickle.dump(y,pickle_out)
pickle_out.close()


pickle_in = open("X.pickle","rb")
X = pickle.load(pickle_in)


X = pickle.load(open("X.pickle","rb"))
y = pickle.load(open("y.pickle","rb"))

X/=255
cnn = models.Sequential([
    layers.Conv2D(filters=32, kernel_size=(3, 3), activation='relu', input_shape=(200, 200, 3)),
    layers.MaxPooling2D((2, 2)),
    
    layers.Conv2D(filters=64, kernel_size=(3, 3), activation='relu'),
    layers.MaxPooling2D((2, 2)),
    
    layers.Flatten(),
    layers.Dense(100, activation='relu'),
    layers.Dense(30, activation='softmax')
])

cnn.compile(optimizer='adam',
              loss='sparse_categorical_crossentropy',
              metrics=['accuracy'])
 y = np.array(y)

cnn.fit(X,y,batch_size = 30, validation_split = 0.20, epochs=20)
