{
  "nbformat": 4,
  "nbformat_minor": 0,
  "metadata": {
    "colab": {
      "provenance": []
    },
    "kernelspec": {
      "name": "python3",
      "display_name": "Python 3"
    },
    "language_info": {
      "name": "python"
    },
    "accelerator": "GPU",
    "gpuClass": "standard"
  },
  "cells": [
    {
      "cell_type": "code",
      "execution_count": null,
      "metadata": {
        "colab": {
          "base_uri": "https://localhost:8080/"
        },
        "id": "o11QzTeXq97N",
        "outputId": "6fe9517c-0a69-4539-c379-feece02b0688"
      },
      "outputs": [
        {
          "output_type": "stream",
          "name": "stdout",
          "text": [
            "Mounted at /content/drive\n"
          ]
        }
      ],
      "source": [
        "from google.colab import drive\n",
        "drive.mount('/content/drive')"
      ]
    },
    {
      "cell_type": "code",
      "source": [
        "import numpy as np \n",
        "import matplotlib.pyplot as plt\n",
        "import os\n",
        "from tensorflow.keras.utils import load_img\n",
        "from tensorflow.keras.preprocessing.image import img_to_array\n",
        "from tensorflow.keras.preprocessing.image import array_to_img\n",
        "import tensorflow as tf\n",
        "from tensorflow.keras.models import Sequential, load_model\n",
        "from tensorflow.keras.layers import Dense, Dropout, Activation, Flatten, Conv2D, MaxPooling2D\n",
        "from sklearn.model_selection import train_test_split\n",
        "from tensorflow.keras import layers, models"
      ],
      "metadata": {
        "id": "eIp0vouKrojR"
      },
      "execution_count": null,
      "outputs": []
    },
    {
      "cell_type": "code",
      "source": [
        "DATADIR = r\"/content/drive/MyDrive/deep learning/images\"\n",
        "categories = [\"mattar_paneer\",\"beetroot_halwa\",\"bhindi_fry\", \"chicken_biryani\", \"chicken_lollipop\",\n",
        "              \"dal_makhani\", \"egg_burji\", \"jalebi\", \"jeera_aloo\", \"kaju_katli\", \n",
        "              \"palak_paneer\", \"Parotta\", \"poori\", \"rasgulla\", \"vada\"]\n",
        "training_data = []\n",
        "def create_train():\n",
        "    for cat in categories:\n",
        "        path = os.path.join(DATADIR,cat)\n",
        "        class_num = categories.index(cat)\n",
        "        for img in os.listdir(path):\n",
        "            try:\n",
        "                img_a = load_img(os.path.join(DATADIR,cat,img))\n",
        "                img_array = img_to_array(img_a)\n",
        "                training_data.append([img_array,class_num])\n",
        "            except Exception as e:\n",
        "                pass\n",
        "create_train()"
      ],
      "metadata": {
        "id": "szHfDXGlrtGx"
      },
      "execution_count": null,
      "outputs": []
    },
    {
      "cell_type": "code",
      "source": [
        "X = []\n",
        "y = []\n",
        "for feat,label in training_data:\n",
        "    X.append(feat)\n",
        "    y.append(label)\n",
        "X = np.array(X)\n",
        "X/=255\n",
        "y = np.array(y)\n",
        "X_train, X_test, y_train, y_test = train_test_split(X, y, test_size=0.15, random_state=69)"
      ],
      "metadata": {
        "id": "4mgyiKu_ruzp"
      },
      "execution_count": null,
      "outputs": []
    },
    {
      "cell_type": "code",
      "source": [
        "data_augmentation = models.Sequential([\n",
        "    layers.experimental.preprocessing.RandomFlip(\"horizontal_and_vertical\", input_shape=(200, 200, 3)),\n",
        "    layers.experimental.preprocessing.RandomRotation((-0.2, 0.3)),\n",
        "])\n",
        "\n",
        "rescale_ = models.Sequential([\n",
        "    layers.experimental.preprocessing.Resizing(200, 200, input_shape=[None,None,3]),\n",
        "])\n",
        "\n",
        "lossFN = 'sparse_categorical_crossentropy'\n",
        "optimizerFN = tf.keras.optimizers.Adam(learning_rate=0.0005)\n",
        "\n",
        "cnn = models.Sequential([\n",
        "\n",
        "    rescale_,\n",
        "\n",
        "    data_augmentation,\n",
        "    \n",
        "    layers.Conv2D(filters=16, kernel_size=(3, 3), activation='relu', padding = 'same'),\n",
        "    layers.MaxPooling2D(),\n",
        "\n",
        "    layers.Conv2D(filters=32, kernel_size=(3, 3), activation='relu', padding = 'same'),\n",
        "    layers.MaxPooling2D(),\n",
        "\n",
        "    layers.Dropout(0.2),\n",
        "\n",
        "    layers.Conv2D(filters=64, kernel_size=(3, 3), activation='relu', padding = 'same'),\n",
        "    layers.MaxPooling2D(),\n",
        "\n",
        "\n",
        "    layers.Conv2D(filters=128, kernel_size=(3, 3), activation='relu', padding = 'same'),\n",
        "    layers.MaxPooling2D(),\n",
        "\n",
        "    layers.Conv2D(filters=256, kernel_size=(3, 3), activation='relu', padding = 'same'),\n",
        "    layers.MaxPooling2D(),\n",
        "    \n",
        "    layers.Flatten(),\n",
        "\n",
        "    layers.Dropout(0.2),\n",
        "\n",
        "    layers.Dense(32,activation = 'relu'),\n",
        "    \n",
        "    layers.Dense(15, activation='softmax')\n",
        "])\n",
        "cnn.compile(optimizer=optimizerFN,\n",
        "              loss= lossFN,\n",
        "              metrics=['accuracy'])"
      ],
      "metadata": {
        "id": "NCuCe5-0rwQD"
      },
      "execution_count": null,
      "outputs": []
    },
    {
      "cell_type": "code",
      "source": [
        "data_augmentation = models.Sequential([\n",
        "    layers.experimental.preprocessing.RandomFlip(\"horizontal_and_vertical\", input_shape=(200, 200, 3)),\n",
        "    layers.experimental.preprocessing.RandomRotation((-0.2, 0.3)),\n",
        "])\n",
        "\n",
        "rescale_ = models.Sequential([\n",
        "    layers.experimental.preprocessing.Resizing(200, 200, input_shape=[None,None,3]),\n",
        "])\n",
        "\n",
        "lossFN = 'sparse_categorical_crossentropy'\n",
        "optimizerFN = tf.keras.optimizers.Adam(learning_rate=0.0005)\n",
        "\n",
        "mod = models.Sequential([\n",
        "\n",
        "    rescale_,\n",
        "\n",
        "    data_augmentation,\n",
        "    \n",
        "    layers.Conv2D(filters=8, kernel_size=(3, 3), activation='relu', padding = 'same'),\n",
        "    layers.MaxPooling2D(),\n",
        "\n",
        "    layers.Conv2D(filters=16, kernel_size=(3, 3), activation='relu', padding = 'same'),\n",
        "    layers.MaxPooling2D(),\n",
        "\n",
        "    layers.Conv2D(filters=32, kernel_size=(3, 3), activation='relu', padding = 'same'),\n",
        "    layers.MaxPooling2D(),\n",
        "\n",
        "    layers.Dropout(0.2),\n",
        "\n",
        "    layers.Conv2D(filters=64, kernel_size=(3, 3), activation='relu', padding = 'same'),\n",
        "    layers.MaxPooling2D(),\n",
        "\n",
        "\n",
        "    layers.Conv2D(filters=128, kernel_size=(3, 3), activation='relu', padding = 'same'),\n",
        "    layers.MaxPooling2D(),\n",
        "\n",
        "    layers.Conv2D(filters=256, kernel_size=(3, 3), activation='relu', padding = 'same'),\n",
        "    layers.MaxPooling2D(),\n",
        "    \n",
        "    layers.Flatten(),\n",
        "\n",
        "    layers.Dropout(0.2),\n",
        "\n",
        "    layers.Dense(32,activation = 'relu'),\n",
        "    \n",
        "    layers.Dense(15, activation='softmax')\n",
        "])\n",
        "mod.compile(optimizer=optimizerFN,\n",
        "              loss= lossFN,\n",
        "              metrics=['accuracy'])"
      ],
      "metadata": {
        "id": "654dxR7ju6uh"
      },
      "execution_count": null,
      "outputs": []
    },
    {
      "cell_type": "code",
      "source": [
        "dm = mod.fit(X_train,y_train,batch_size = 16, validation_split = 0.05, epochs=118)"
      ],
      "metadata": {
        "colab": {
          "base_uri": "https://localhost:8080/"
        },
        "id": "wnLJMdhquW2c",
        "outputId": "939be37e-b53c-4616-ad7f-9345fbcb5f9d"
      },
      "execution_count": null,
      "outputs": [
        {
          "output_type": "stream",
          "name": "stdout",
          "text": [
            "Epoch 1/118\n",
            "146/146 [==============================] - 6s 29ms/step - loss: 2.6471 - accuracy: 0.0997 - val_loss: 2.5863 - val_accuracy: 0.1545\n",
            "Epoch 2/118\n",
            "146/146 [==============================] - 4s 27ms/step - loss: 2.4096 - accuracy: 0.1558 - val_loss: 2.3271 - val_accuracy: 0.1220\n",
            "Epoch 3/118\n",
            "146/146 [==============================] - 4s 29ms/step - loss: 2.3434 - accuracy: 0.1721 - val_loss: 2.3117 - val_accuracy: 0.1301\n",
            "Epoch 4/118\n",
            "146/146 [==============================] - 4s 27ms/step - loss: 2.2703 - accuracy: 0.1892 - val_loss: 2.2602 - val_accuracy: 0.1870\n",
            "Epoch 5/118\n",
            "146/146 [==============================] - 4s 27ms/step - loss: 2.2243 - accuracy: 0.2102 - val_loss: 2.1066 - val_accuracy: 0.2764\n",
            "Epoch 6/118\n",
            "146/146 [==============================] - 4s 27ms/step - loss: 2.0477 - accuracy: 0.2885 - val_loss: 1.8539 - val_accuracy: 0.3821\n",
            "Epoch 7/118\n",
            "146/146 [==============================] - 4s 27ms/step - loss: 1.9172 - accuracy: 0.3241 - val_loss: 1.7691 - val_accuracy: 0.2846\n",
            "Epoch 8/118\n",
            "146/146 [==============================] - 4s 27ms/step - loss: 1.8337 - accuracy: 0.3523 - val_loss: 1.7322 - val_accuracy: 0.3902\n",
            "Epoch 9/118\n",
            "146/146 [==============================] - 4s 27ms/step - loss: 1.7407 - accuracy: 0.3921 - val_loss: 1.6549 - val_accuracy: 0.4309\n",
            "Epoch 10/118\n",
            "146/146 [==============================] - 4s 27ms/step - loss: 1.6695 - accuracy: 0.4135 - val_loss: 1.6192 - val_accuracy: 0.4065\n",
            "Epoch 11/118\n",
            "146/146 [==============================] - 4s 27ms/step - loss: 1.6190 - accuracy: 0.4251 - val_loss: 1.6403 - val_accuracy: 0.4146\n",
            "Epoch 12/118\n",
            "146/146 [==============================] - 4s 27ms/step - loss: 1.6288 - accuracy: 0.4315 - val_loss: 1.5856 - val_accuracy: 0.4634\n",
            "Epoch 13/118\n",
            "146/146 [==============================] - 4s 27ms/step - loss: 1.5350 - accuracy: 0.4580 - val_loss: 1.4168 - val_accuracy: 0.4715\n",
            "Epoch 14/118\n",
            "146/146 [==============================] - 4s 27ms/step - loss: 1.4854 - accuracy: 0.4717 - val_loss: 1.4018 - val_accuracy: 0.4797\n",
            "Epoch 15/118\n",
            "146/146 [==============================] - 4s 28ms/step - loss: 1.4650 - accuracy: 0.4769 - val_loss: 1.4284 - val_accuracy: 0.4959\n",
            "Epoch 16/118\n",
            "146/146 [==============================] - 4s 27ms/step - loss: 1.4478 - accuracy: 0.4906 - val_loss: 1.5616 - val_accuracy: 0.4634\n",
            "Epoch 17/118\n",
            "146/146 [==============================] - 4s 26ms/step - loss: 1.3874 - accuracy: 0.5180 - val_loss: 1.4320 - val_accuracy: 0.4878\n",
            "Epoch 18/118\n",
            "146/146 [==============================] - 4s 27ms/step - loss: 1.3479 - accuracy: 0.5308 - val_loss: 1.3549 - val_accuracy: 0.5203\n",
            "Epoch 19/118\n",
            "146/146 [==============================] - 4s 28ms/step - loss: 1.3022 - accuracy: 0.5552 - val_loss: 1.3369 - val_accuracy: 0.5203\n",
            "Epoch 20/118\n",
            "146/146 [==============================] - 4s 28ms/step - loss: 1.2672 - accuracy: 0.5548 - val_loss: 1.2803 - val_accuracy: 0.5285\n",
            "Epoch 21/118\n",
            "146/146 [==============================] - 4s 28ms/step - loss: 1.2304 - accuracy: 0.5668 - val_loss: 1.2265 - val_accuracy: 0.6016\n",
            "Epoch 22/118\n",
            "146/146 [==============================] - 4s 27ms/step - loss: 1.2107 - accuracy: 0.5835 - val_loss: 1.2871 - val_accuracy: 0.5447\n",
            "Epoch 23/118\n",
            "146/146 [==============================] - 4s 27ms/step - loss: 1.2115 - accuracy: 0.5719 - val_loss: 1.2538 - val_accuracy: 0.5610\n",
            "Epoch 24/118\n",
            "146/146 [==============================] - 4s 27ms/step - loss: 1.1600 - accuracy: 0.5980 - val_loss: 1.2259 - val_accuracy: 0.6016\n",
            "Epoch 25/118\n",
            "146/146 [==============================] - 4s 27ms/step - loss: 1.1530 - accuracy: 0.6083 - val_loss: 1.3280 - val_accuracy: 0.5122\n",
            "Epoch 26/118\n",
            "146/146 [==============================] - 4s 27ms/step - loss: 1.0942 - accuracy: 0.6271 - val_loss: 1.0914 - val_accuracy: 0.6098\n",
            "Epoch 27/118\n",
            "146/146 [==============================] - 4s 27ms/step - loss: 1.0824 - accuracy: 0.6280 - val_loss: 1.0942 - val_accuracy: 0.5772\n",
            "Epoch 28/118\n",
            "146/146 [==============================] - 4s 27ms/step - loss: 1.0548 - accuracy: 0.6408 - val_loss: 1.2548 - val_accuracy: 0.5528\n",
            "Epoch 29/118\n",
            "146/146 [==============================] - 4s 27ms/step - loss: 1.0555 - accuracy: 0.6344 - val_loss: 1.2046 - val_accuracy: 0.6260\n",
            "Epoch 30/118\n",
            "146/146 [==============================] - 4s 27ms/step - loss: 1.0151 - accuracy: 0.6430 - val_loss: 1.1137 - val_accuracy: 0.6179\n",
            "Epoch 31/118\n",
            "146/146 [==============================] - 4s 27ms/step - loss: 1.0359 - accuracy: 0.6408 - val_loss: 0.9819 - val_accuracy: 0.6504\n",
            "Epoch 32/118\n",
            "146/146 [==============================] - 4s 27ms/step - loss: 0.9906 - accuracy: 0.6554 - val_loss: 1.0741 - val_accuracy: 0.6098\n",
            "Epoch 33/118\n",
            "146/146 [==============================] - 4s 27ms/step - loss: 0.9607 - accuracy: 0.6558 - val_loss: 1.0139 - val_accuracy: 0.6341\n",
            "Epoch 34/118\n",
            "146/146 [==============================] - 4s 27ms/step - loss: 0.9822 - accuracy: 0.6622 - val_loss: 0.9883 - val_accuracy: 0.6504\n",
            "Epoch 35/118\n",
            "146/146 [==============================] - 4s 27ms/step - loss: 0.9079 - accuracy: 0.6871 - val_loss: 1.0048 - val_accuracy: 0.6585\n",
            "Epoch 36/118\n",
            "146/146 [==============================] - 4s 28ms/step - loss: 0.9366 - accuracy: 0.6772 - val_loss: 0.9992 - val_accuracy: 0.6098\n",
            "Epoch 37/118\n",
            "146/146 [==============================] - 4s 27ms/step - loss: 0.9296 - accuracy: 0.6802 - val_loss: 0.9703 - val_accuracy: 0.7154\n",
            "Epoch 38/118\n",
            "146/146 [==============================] - 4s 27ms/step - loss: 0.8895 - accuracy: 0.6922 - val_loss: 0.8840 - val_accuracy: 0.7398\n",
            "Epoch 39/118\n",
            "146/146 [==============================] - 4s 27ms/step - loss: 0.8472 - accuracy: 0.7089 - val_loss: 0.9330 - val_accuracy: 0.6748\n",
            "Epoch 40/118\n",
            "146/146 [==============================] - 4s 27ms/step - loss: 0.8273 - accuracy: 0.7098 - val_loss: 0.8954 - val_accuracy: 0.6911\n",
            "Epoch 41/118\n",
            "146/146 [==============================] - 4s 27ms/step - loss: 0.8618 - accuracy: 0.6986 - val_loss: 0.9375 - val_accuracy: 0.7073\n",
            "Epoch 42/118\n",
            "146/146 [==============================] - 4s 27ms/step - loss: 0.8327 - accuracy: 0.7003 - val_loss: 1.0504 - val_accuracy: 0.6829\n",
            "Epoch 43/118\n",
            "146/146 [==============================] - 4s 27ms/step - loss: 0.8130 - accuracy: 0.7226 - val_loss: 0.8683 - val_accuracy: 0.6911\n",
            "Epoch 44/118\n",
            "146/146 [==============================] - 4s 27ms/step - loss: 0.8063 - accuracy: 0.7110 - val_loss: 0.8476 - val_accuracy: 0.6992\n",
            "Epoch 45/118\n",
            "146/146 [==============================] - 4s 27ms/step - loss: 0.8025 - accuracy: 0.7188 - val_loss: 0.9167 - val_accuracy: 0.6829\n",
            "Epoch 46/118\n",
            "146/146 [==============================] - 4s 27ms/step - loss: 0.7730 - accuracy: 0.7380 - val_loss: 1.0538 - val_accuracy: 0.6667\n",
            "Epoch 47/118\n",
            "146/146 [==============================] - 4s 27ms/step - loss: 0.7561 - accuracy: 0.7295 - val_loss: 0.8981 - val_accuracy: 0.6992\n",
            "Epoch 48/118\n",
            "146/146 [==============================] - 4s 27ms/step - loss: 0.7367 - accuracy: 0.7466 - val_loss: 0.8882 - val_accuracy: 0.7073\n",
            "Epoch 49/118\n",
            "146/146 [==============================] - 4s 27ms/step - loss: 0.7549 - accuracy: 0.7286 - val_loss: 1.0101 - val_accuracy: 0.6748\n",
            "Epoch 50/118\n",
            "146/146 [==============================] - 4s 27ms/step - loss: 0.7279 - accuracy: 0.7496 - val_loss: 0.9432 - val_accuracy: 0.6504\n",
            "Epoch 51/118\n",
            "146/146 [==============================] - 4s 27ms/step - loss: 0.7276 - accuracy: 0.7496 - val_loss: 0.8506 - val_accuracy: 0.7398\n",
            "Epoch 52/118\n",
            "146/146 [==============================] - 4s 27ms/step - loss: 0.7091 - accuracy: 0.7474 - val_loss: 0.9704 - val_accuracy: 0.7154\n",
            "Epoch 53/118\n",
            "146/146 [==============================] - 4s 27ms/step - loss: 0.6728 - accuracy: 0.7586 - val_loss: 0.9344 - val_accuracy: 0.6992\n",
            "Epoch 54/118\n",
            "146/146 [==============================] - 4s 27ms/step - loss: 0.7255 - accuracy: 0.7483 - val_loss: 1.0538 - val_accuracy: 0.6667\n",
            "Epoch 55/118\n",
            "146/146 [==============================] - 4s 27ms/step - loss: 0.6945 - accuracy: 0.7530 - val_loss: 0.9396 - val_accuracy: 0.7073\n",
            "Epoch 56/118\n",
            "146/146 [==============================] - 4s 27ms/step - loss: 0.6673 - accuracy: 0.7667 - val_loss: 0.9378 - val_accuracy: 0.6992\n",
            "Epoch 57/118\n",
            "146/146 [==============================] - 4s 27ms/step - loss: 0.6865 - accuracy: 0.7598 - val_loss: 0.8425 - val_accuracy: 0.7154\n",
            "Epoch 58/118\n",
            "146/146 [==============================] - 4s 28ms/step - loss: 0.6471 - accuracy: 0.7795 - val_loss: 0.8975 - val_accuracy: 0.7236\n",
            "Epoch 59/118\n",
            "146/146 [==============================] - 4s 28ms/step - loss: 0.6506 - accuracy: 0.7710 - val_loss: 0.8414 - val_accuracy: 0.7317\n",
            "Epoch 60/118\n",
            "146/146 [==============================] - 4s 28ms/step - loss: 0.6152 - accuracy: 0.7868 - val_loss: 0.9127 - val_accuracy: 0.6829\n",
            "Epoch 61/118\n",
            "146/146 [==============================] - 4s 28ms/step - loss: 0.6604 - accuracy: 0.7620 - val_loss: 0.8784 - val_accuracy: 0.7236\n",
            "Epoch 62/118\n",
            "146/146 [==============================] - 4s 28ms/step - loss: 0.6068 - accuracy: 0.7877 - val_loss: 0.8546 - val_accuracy: 0.7073\n",
            "Epoch 63/118\n",
            "146/146 [==============================] - 5s 36ms/step - loss: 0.6201 - accuracy: 0.7787 - val_loss: 0.9448 - val_accuracy: 0.7154\n",
            "Epoch 64/118\n",
            "146/146 [==============================] - 6s 43ms/step - loss: 0.6063 - accuracy: 0.7842 - val_loss: 0.8336 - val_accuracy: 0.7480\n",
            "Epoch 65/118\n",
            "146/146 [==============================] - 4s 28ms/step - loss: 0.5774 - accuracy: 0.7962 - val_loss: 0.9009 - val_accuracy: 0.6911\n",
            "Epoch 66/118\n",
            "146/146 [==============================] - 4s 27ms/step - loss: 0.5705 - accuracy: 0.7958 - val_loss: 0.8362 - val_accuracy: 0.7642\n",
            "Epoch 67/118\n",
            "146/146 [==============================] - 4s 27ms/step - loss: 0.5583 - accuracy: 0.8044 - val_loss: 0.8387 - val_accuracy: 0.7236\n",
            "Epoch 68/118\n",
            "146/146 [==============================] - 4s 27ms/step - loss: 0.5846 - accuracy: 0.7868 - val_loss: 0.9250 - val_accuracy: 0.7317\n",
            "Epoch 69/118\n",
            "146/146 [==============================] - 4s 27ms/step - loss: 0.5318 - accuracy: 0.8125 - val_loss: 0.9825 - val_accuracy: 0.6748\n",
            "Epoch 70/118\n",
            "146/146 [==============================] - 4s 27ms/step - loss: 0.5539 - accuracy: 0.8121 - val_loss: 0.8131 - val_accuracy: 0.7236\n",
            "Epoch 71/118\n",
            "146/146 [==============================] - 4s 27ms/step - loss: 0.5292 - accuracy: 0.8116 - val_loss: 0.9208 - val_accuracy: 0.6911\n",
            "Epoch 72/118\n",
            "146/146 [==============================] - 4s 28ms/step - loss: 0.5430 - accuracy: 0.8108 - val_loss: 0.9333 - val_accuracy: 0.6992\n",
            "Epoch 73/118\n",
            "146/146 [==============================] - 4s 27ms/step - loss: 0.5400 - accuracy: 0.8134 - val_loss: 0.9084 - val_accuracy: 0.7236\n",
            "Epoch 74/118\n",
            "146/146 [==============================] - 4s 27ms/step - loss: 0.5273 - accuracy: 0.8181 - val_loss: 0.9104 - val_accuracy: 0.7236\n",
            "Epoch 75/118\n",
            "146/146 [==============================] - 4s 28ms/step - loss: 0.5228 - accuracy: 0.8091 - val_loss: 0.9353 - val_accuracy: 0.6911\n",
            "Epoch 76/118\n",
            "146/146 [==============================] - 4s 28ms/step - loss: 0.5120 - accuracy: 0.8142 - val_loss: 0.9050 - val_accuracy: 0.7805\n",
            "Epoch 77/118\n",
            "146/146 [==============================] - 4s 28ms/step - loss: 0.4876 - accuracy: 0.8262 - val_loss: 1.0146 - val_accuracy: 0.7073\n",
            "Epoch 78/118\n",
            "146/146 [==============================] - 4s 28ms/step - loss: 0.4912 - accuracy: 0.8292 - val_loss: 0.8470 - val_accuracy: 0.7480\n",
            "Epoch 79/118\n",
            "146/146 [==============================] - 4s 28ms/step - loss: 0.5020 - accuracy: 0.8181 - val_loss: 0.8655 - val_accuracy: 0.7480\n",
            "Epoch 80/118\n",
            "146/146 [==============================] - 4s 28ms/step - loss: 0.4462 - accuracy: 0.8480 - val_loss: 0.9962 - val_accuracy: 0.7073\n",
            "Epoch 81/118\n",
            "146/146 [==============================] - 4s 27ms/step - loss: 0.4645 - accuracy: 0.8313 - val_loss: 1.0222 - val_accuracy: 0.6829\n",
            "Epoch 82/118\n",
            "146/146 [==============================] - 4s 28ms/step - loss: 0.4934 - accuracy: 0.8271 - val_loss: 0.9928 - val_accuracy: 0.6829\n",
            "Epoch 83/118\n",
            "146/146 [==============================] - 4s 28ms/step - loss: 0.4541 - accuracy: 0.8326 - val_loss: 0.9233 - val_accuracy: 0.7317\n",
            "Epoch 84/118\n",
            "146/146 [==============================] - 4s 27ms/step - loss: 0.4605 - accuracy: 0.8348 - val_loss: 0.9795 - val_accuracy: 0.6911\n",
            "Epoch 85/118\n",
            "146/146 [==============================] - 4s 27ms/step - loss: 0.4518 - accuracy: 0.8403 - val_loss: 0.9153 - val_accuracy: 0.7480\n",
            "Epoch 86/118\n",
            "146/146 [==============================] - 4s 27ms/step - loss: 0.4162 - accuracy: 0.8532 - val_loss: 0.8208 - val_accuracy: 0.7561\n",
            "Epoch 87/118\n",
            "146/146 [==============================] - 4s 28ms/step - loss: 0.4547 - accuracy: 0.8403 - val_loss: 0.9411 - val_accuracy: 0.7398\n",
            "Epoch 88/118\n",
            "146/146 [==============================] - 4s 27ms/step - loss: 0.4340 - accuracy: 0.8420 - val_loss: 0.9473 - val_accuracy: 0.7236\n",
            "Epoch 89/118\n",
            "146/146 [==============================] - 4s 28ms/step - loss: 0.4078 - accuracy: 0.8545 - val_loss: 0.8957 - val_accuracy: 0.7236\n",
            "Epoch 90/118\n",
            "146/146 [==============================] - 4s 28ms/step - loss: 0.4391 - accuracy: 0.8408 - val_loss: 0.9315 - val_accuracy: 0.6992\n",
            "Epoch 91/118\n",
            "146/146 [==============================] - 4s 27ms/step - loss: 0.3984 - accuracy: 0.8579 - val_loss: 0.9532 - val_accuracy: 0.7317\n",
            "Epoch 92/118\n",
            "146/146 [==============================] - 4s 27ms/step - loss: 0.4089 - accuracy: 0.8506 - val_loss: 0.9773 - val_accuracy: 0.7317\n",
            "Epoch 93/118\n",
            "146/146 [==============================] - 4s 28ms/step - loss: 0.3978 - accuracy: 0.8613 - val_loss: 1.0630 - val_accuracy: 0.7398\n",
            "Epoch 94/118\n",
            "146/146 [==============================] - 4s 27ms/step - loss: 0.3543 - accuracy: 0.8720 - val_loss: 1.0129 - val_accuracy: 0.7480\n",
            "Epoch 95/118\n",
            "146/146 [==============================] - 4s 28ms/step - loss: 0.4153 - accuracy: 0.8527 - val_loss: 0.9614 - val_accuracy: 0.7398\n",
            "Epoch 96/118\n",
            "146/146 [==============================] - 4s 28ms/step - loss: 0.3942 - accuracy: 0.8604 - val_loss: 1.0937 - val_accuracy: 0.6992\n",
            "Epoch 97/118\n",
            "146/146 [==============================] - 4s 28ms/step - loss: 0.3802 - accuracy: 0.8729 - val_loss: 1.1733 - val_accuracy: 0.7154\n",
            "Epoch 98/118\n",
            "146/146 [==============================] - 4s 28ms/step - loss: 0.3893 - accuracy: 0.8596 - val_loss: 1.0290 - val_accuracy: 0.6992\n",
            "Epoch 99/118\n",
            "146/146 [==============================] - 4s 28ms/step - loss: 0.3385 - accuracy: 0.8793 - val_loss: 1.0260 - val_accuracy: 0.6911\n",
            "Epoch 100/118\n",
            "146/146 [==============================] - 4s 28ms/step - loss: 0.3621 - accuracy: 0.8673 - val_loss: 1.0046 - val_accuracy: 0.7317\n",
            "Epoch 101/118\n",
            "146/146 [==============================] - 4s 27ms/step - loss: 0.3452 - accuracy: 0.8677 - val_loss: 1.1292 - val_accuracy: 0.6748\n",
            "Epoch 102/118\n",
            "146/146 [==============================] - 4s 27ms/step - loss: 0.3681 - accuracy: 0.8647 - val_loss: 1.0327 - val_accuracy: 0.7317\n",
            "Epoch 103/118\n",
            "146/146 [==============================] - 4s 27ms/step - loss: 0.3751 - accuracy: 0.8669 - val_loss: 1.2233 - val_accuracy: 0.6504\n",
            "Epoch 104/118\n",
            "146/146 [==============================] - 4s 27ms/step - loss: 0.3565 - accuracy: 0.8707 - val_loss: 1.0196 - val_accuracy: 0.6992\n",
            "Epoch 105/118\n",
            "146/146 [==============================] - 4s 27ms/step - loss: 0.3235 - accuracy: 0.8848 - val_loss: 1.0236 - val_accuracy: 0.6911\n",
            "Epoch 106/118\n",
            "146/146 [==============================] - 4s 28ms/step - loss: 0.3346 - accuracy: 0.8818 - val_loss: 0.9574 - val_accuracy: 0.6992\n",
            "Epoch 107/118\n",
            "146/146 [==============================] - 4s 27ms/step - loss: 0.3293 - accuracy: 0.8857 - val_loss: 1.0789 - val_accuracy: 0.6992\n",
            "Epoch 108/118\n",
            "146/146 [==============================] - 4s 27ms/step - loss: 0.3163 - accuracy: 0.8883 - val_loss: 0.9481 - val_accuracy: 0.7886\n",
            "Epoch 109/118\n",
            "146/146 [==============================] - 4s 27ms/step - loss: 0.3228 - accuracy: 0.8810 - val_loss: 1.2120 - val_accuracy: 0.6829\n",
            "Epoch 110/118\n",
            "146/146 [==============================] - 4s 27ms/step - loss: 0.3459 - accuracy: 0.8806 - val_loss: 1.0267 - val_accuracy: 0.6911\n",
            "Epoch 111/118\n",
            "146/146 [==============================] - 4s 28ms/step - loss: 0.3232 - accuracy: 0.8891 - val_loss: 0.9363 - val_accuracy: 0.6992\n",
            "Epoch 112/118\n",
            "146/146 [==============================] - 4s 28ms/step - loss: 0.3320 - accuracy: 0.8831 - val_loss: 1.4876 - val_accuracy: 0.6260\n",
            "Epoch 113/118\n",
            "146/146 [==============================] - 4s 28ms/step - loss: 0.3388 - accuracy: 0.8836 - val_loss: 1.0757 - val_accuracy: 0.7236\n",
            "Epoch 114/118\n",
            "146/146 [==============================] - 4s 28ms/step - loss: 0.3032 - accuracy: 0.8926 - val_loss: 1.0336 - val_accuracy: 0.7398\n",
            "Epoch 115/118\n",
            "146/146 [==============================] - 4s 27ms/step - loss: 0.2747 - accuracy: 0.9020 - val_loss: 1.1328 - val_accuracy: 0.6992\n",
            "Epoch 116/118\n",
            "146/146 [==============================] - 4s 27ms/step - loss: 0.2803 - accuracy: 0.9015 - val_loss: 1.1558 - val_accuracy: 0.6748\n",
            "Epoch 117/118\n",
            "146/146 [==============================] - 4s 27ms/step - loss: 0.2792 - accuracy: 0.8921 - val_loss: 1.0454 - val_accuracy: 0.7073\n",
            "Epoch 118/118\n",
            "146/146 [==============================] - 4s 28ms/step - loss: 0.3205 - accuracy: 0.8896 - val_loss: 1.0595 - val_accuracy: 0.7398\n"
          ]
        }
      ]
    },
    {
      "cell_type": "code",
      "source": [
        "cnn.evaluate(X_train, y_train)"
      ],
      "metadata": {
        "id": "rel20lNjwuBP"
      },
      "execution_count": null,
      "outputs": []
    },
    {
      "cell_type": "code",
      "source": [
        "mod.evaluate(X_test, y_test)"
      ],
      "metadata": {
        "colab": {
          "base_uri": "https://localhost:8080/"
        },
        "id": "tldxPDhpw0rD",
        "outputId": "3401f8f2-f773-45c0-c4d0-4c716c91a293"
      },
      "execution_count": null,
      "outputs": [
        {
          "output_type": "stream",
          "name": "stdout",
          "text": [
            "14/14 [==============================] - 1s 23ms/step - loss: 1.3747 - accuracy: 0.7235\n"
          ]
        },
        {
          "output_type": "execute_result",
          "data": {
            "text/plain": [
              "[1.3747081756591797, 0.7235022783279419]"
            ]
          },
          "metadata": {},
          "execution_count": 25
        }
      ]
    },
    {
      "cell_type": "code",
      "source": [
        "mod.save(\"Zirpy73.h5\")"
      ],
      "metadata": {
        "id": "471GUDLSw1ez"
      },
      "execution_count": null,
      "outputs": []
    },
    {
      "cell_type": "code",
      "source": [
        "cnn.save(\"Zirpy73_actual.h5\")"
      ],
      "metadata": {
        "id": "FFafC7rvxuTf"
      },
      "execution_count": null,
      "outputs": []
    },
    {
      "cell_type": "code",
      "source": [
        "plt.plot(dm.history['accuracy'])\n",
        "plt.plot(dm.history['val_accuracy'])\n",
        "plt.title('model accuracy')\n",
        "plt.ylabel('accuracy')\n",
        "plt.xlabel('epoch')\n",
        "plt.legend(['Train', 'Validation'], loc='upper left')\n",
        "plt.show()\n",
        "\n",
        "plt.plot(dm.history['loss'])\n",
        "plt.plot(dm.history['val_loss'])\n",
        "plt.title('model loss')\n",
        "plt.ylabel('loss')\n",
        "plt.xlabel('epoch')\n",
        "plt.legend(['Train', 'Validation'], loc='upper left')\n",
        "plt.show()"
      ],
      "metadata": {
        "colab": {
          "base_uri": "https://localhost:8080/",
          "height": 573
        },
        "id": "CMQtKm7Pz6_K",
        "outputId": "64b05fa6-8aa8-4a06-8de3-53014ce98b7d"
      },
      "execution_count": null,
      "outputs": [
        {
          "output_type": "display_data",
          "data": {
            "text/plain": [
              "<Figure size 432x288 with 1 Axes>"
            ],
            "image/png": "[encoded data removed]"
          },
          "metadata": {
            "needs_background": "light"
          }
        },
        {
          "output_type": "display_data",
          "data": {
            "text/plain": [
              "<Figure size 432x288 with 1 Axes>"
            ],
            "image/png": "[encoded data removed]"
          },
          "metadata": {
            "needs_background": "light"
          }
        }
      ]
    },
    {
      "cell_type": "code",
      "source": [
        "from sklearn.metrics import f1_score, precision_recall_fscore_support, confusion_matrix\n",
        "import pandas as pd\n",
        "import seaborn as sns\n",
        "\n",
        "y_pred = np.argmax(cnn.predict(X_test), axis=-1)\n",
        "\n",
        "print(f1_score(y_test, y_pred, average=\"macro\"))\n",
        "cm = confusion_matrix(y_test, y_pred)\n",
        "cm_df = pd.DataFrame(cm, index=categories)\n",
        "plt.figure(figsize=(5,4))\n",
        "sns.heatmap(cm_df, annot=True)\n",
        "plt.title('Confusion Matrix')\n",
        "plt.ylabel('Actal Values')\n",
        "plt.xlabel('Predicted Values')\n",
        "plt.show()\n",
        "for i in range(len(categories)):\n",
        "  print(\"Values of: \", categories[i])\n",
        "  print(\"precision: \",precision_recall_fscore_support(y_test, y_pred)[0][i])\n",
        "  print(\"recall: \",precision_recall_fscore_support(y_test, y_pred)[1][i])\n",
        "  print(\"f-score: \", precision_recall_fscore_support(y_test, y_pred)[2][i])\n",
        "  print(\"support\", precision_recall_fscore_support(y_test, y_pred)[3][i])\n",
        "  print(\"i =\",i)\n",
        "  print(\"=\"*10)"
      ],
      "metadata": {
        "colab": {
          "base_uri": "https://localhost:8080/",
          "height": 1000
        },
        "id": "2nSTj4J_0OgE",
        "outputId": "c796139e-29ab-46a8-933a-b7752b72ea3b"
      },
      "execution_count": null,
      "outputs": [
        {
          "output_type": "stream",
          "name": "stdout",
          "text": [
            "14/14 [==============================] - 0s 17ms/step\n",
            "0.7205437105177174\n"
          ]
        },
        {
          "output_type": "display_data",
          "data": {
            "text/plain": [
              "<Figure size 360x288 with 2 Axes>"
            ],
            "image/png": "[encoded data removed]"
          },
          "metadata": {
            "needs_background": "light"
          }
        },
        {
          "output_type": "stream",
          "name": "stdout",
          "text": [
            "Values of:  mattar_paneer\n",
            "precision:  0.8518518518518519\n",
            "recall:  0.6388888888888888\n",
            "f-score:  0.7301587301587301\n",
            "support 36\n",
            "i = 0\n",
            "==========\n",
            "Values of:  beetroot_halwa\n",
            "precision:  0.8928571428571429\n",
            "recall:  0.9259259259259259\n",
            "f-score:  0.9090909090909091\n",
            "support 27\n",
            "i = 1\n",
            "==========\n",
            "Values of:  bhindi_fry\n",
            "precision:  0.8620689655172413\n",
            "recall:  0.7142857142857143\n",
            "f-score:  0.7812500000000001\n",
            "support 35\n",
            "i = 2\n",
            "==========\n",
            "Values of:  chicken_biryani\n",
            "precision:  0.42857142857142855\n",
            "recall:  0.8571428571428571\n",
            "f-score:  0.5714285714285714\n",
            "support 28\n",
            "i = 3\n",
            "==========\n",
            "Values of:  chicken_lollipop\n",
            "precision:  0.7352941176470589\n",
            "recall:  0.8928571428571429\n",
            "f-score:  0.806451612903226\n",
            "support 28\n",
            "i = 4\n",
            "==========\n",
            "Values of:  dal_makhani\n",
            "precision:  0.8333333333333334\n",
            "recall:  0.6666666666666666\n",
            "f-score:  0.7407407407407408\n",
            "support 30\n",
            "i = 5\n",
            "==========\n",
            "Values of:  egg_burji\n",
            "precision:  0.6666666666666666\n",
            "recall:  0.4666666666666667\n",
            "f-score:  0.5490196078431373\n",
            "support 30\n",
            "i = 6\n",
            "==========\n",
            "Values of:  jalebi\n",
            "precision:  0.7647058823529411\n",
            "recall:  0.9512195121951219\n",
            "f-score:  0.8478260869565216\n",
            "support 41\n",
            "i = 7\n",
            "==========\n",
            "Values of:  jeera_aloo\n",
            "precision:  0.7272727272727273\n",
            "recall:  0.7058823529411765\n",
            "f-score:  0.7164179104477613\n",
            "support 34\n",
            "i = 8\n",
            "==========\n",
            "Values of:  kaju_katli\n",
            "precision:  0.7142857142857143\n",
            "recall:  0.75\n",
            "f-score:  0.7317073170731706\n",
            "support 20\n",
            "i = 9\n",
            "==========\n",
            "Values of:  palak_paneer\n",
            "precision:  0.8518518518518519\n",
            "recall:  0.8214285714285714\n",
            "f-score:  0.8363636363636364\n",
            "support 28\n",
            "i = 10\n",
            "==========\n",
            "Values of:  Parotta\n",
            "precision:  0.7058823529411765\n",
            "recall:  0.7058823529411765\n",
            "f-score:  0.7058823529411765\n",
            "support 34\n",
            "i = 11\n",
            "==========\n",
            "Values of:  poori\n",
            "precision:  0.5384615384615384\n",
            "recall:  0.4666666666666667\n",
            "f-score:  0.5\n",
            "support 15\n",
            "i = 12\n",
            "==========\n",
            "Values of:  rasgulla\n",
            "precision:  0.8333333333333334\n",
            "recall:  0.5769230769230769\n",
            "f-score:  0.6818181818181818\n",
            "support 26\n",
            "i = 13\n",
            "==========\n",
            "Values of:  vada\n",
            "precision:  0.7777777777777778\n",
            "recall:  0.6363636363636364\n",
            "f-score:  0.7000000000000001\n",
            "support 22\n",
            "i = 14\n",
            "==========\n"
          ]
        }
      ]
    }
  ]
}