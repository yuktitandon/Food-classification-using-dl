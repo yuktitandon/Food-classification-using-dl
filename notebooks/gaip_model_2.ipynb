{
  "nbformat": 4,
  "nbformat_minor": 0,
  "metadata": {
    "colab": {
      "provenance": []
    },
    "kernelspec": {
      "name": "python3",
      "display_name": "Python 3"
    },
    "language_info": {
      "name": "python"
    },
    "accelerator": "GPU",
    "gpuClass": "standard"
  },
  "cells": [
    {
      "cell_type": "code",
      "execution_count": null,
      "metadata": {
        "colab": {
          "base_uri": "https://localhost:8080/"
        },
        "id": "IRCGmUvNo1aF",
        "outputId": "9f6b5a60-f6f0-4cb5-9a75-4697de5bb13d"
      },
      "outputs": [
        {
          "output_type": "stream",
          "name": "stdout",
          "text": [
            "Mounted at /content/drive\n"
          ]
        }
      ],
      "source": [
        "\n",
        "from google.colab import drive\n",
        "drive.mount('/content/drive')"
      ]
    },
    {
      "cell_type": "code",
      "source": [
        "import numpy as np \n",
        "import matplotlib.pyplot as plt\n",
        "import os\n",
        "from tensorflow.keras.utils import load_img\n",
        "from tensorflow.keras.preprocessing.image import img_to_array\n",
        "from tensorflow.keras.preprocessing.image import array_to_img\n",
        "import tensorflow as tf\n",
        "from tensorflow.keras.models import Sequential, load_model\n",
        "from tensorflow.keras.layers import Dense, Dropout, Activation, Flatten, Conv2D, MaxPooling2D\n",
        "from sklearn.model_selection import train_test_split\n",
        "from tensorflow.keras import layers, models"
      ],
      "metadata": {
        "id": "2xqTv3mAo33U"
      },
      "execution_count": null,
      "outputs": []
    },
    {
      "cell_type": "code",
      "source": [
        "DATADIR = r\"/content/drive/MyDrive/deep learning/images\"\n",
        "categories = [\"mattar_paneer\",\"beetroot_halwa\",\"bhindi_fry\", \"chicken_biryani\", \"chicken_lollipop\",\n",
        "              \"dal_makhani\", \"egg_burji\", \"jalebi\", \"jeera_aloo\", \"kaju_katli\", \n",
        "              \"palak_paneer\", \"Parotta\", \"poori\", \"rasgulla\", \"vada\"]\n",
        "training_data = []\n",
        "def create_train():\n",
        "    for cat in categories:\n",
        "        path = os.path.join(DATADIR,cat)\n",
        "        class_num = categories.index(cat)\n",
        "        for img in os.listdir(path):\n",
        "            try:\n",
        "                img_a = load_img(os.path.join(DATADIR,cat,img))\n",
        "                img_array = img_to_array(img_a)\n",
        "                training_data.append([img_array,class_num])\n",
        "            except Exception as e:\n",
        "                pass\n",
        "create_train()"
      ],
      "metadata": {
        "id": "d-FOi7mfo4wt"
      },
      "execution_count": null,
      "outputs": []
    },
    {
      "cell_type": "code",
      "source": [
        "X = []\n",
        "y = []\n",
        "for feat,label in training_data:\n",
        "    X.append(feat)\n",
        "    y.append(label)\n",
        "X = np.array(X)\n",
        "X/=255\n",
        "y = np.array(y)\n",
        "X_train, X_test, y_train, y_test = train_test_split(X, y, test_size=0.15, random_state=69)"
      ],
      "metadata": {
        "id": "u9DWtjxNpCsC"
      },
      "execution_count": null,
      "outputs": []
    },
    {
      "cell_type": "code",
      "source": [
        "data_augmentation = models.Sequential([\n",
        "    layers.experimental.preprocessing.RandomFlip(\"horizontal_and_vertical\", input_shape=(200, 200, 3)),\n",
        "    layers.experimental.preprocessing.RandomRotation((-0.2, 0.3)),\n",
        "])\n",
        "\n",
        "rescale_ = models.Sequential([\n",
        "    layers.experimental.preprocessing.Resizing(200, 200, input_shape=[None,None,3]),\n",
        "])\n",
        "\n",
        "lossFN = 'sparse_categorical_crossentropy'\n",
        "optimizerFN = tf.keras.optimizers.Adam(learning_rate=0.001)\n",
        "\n",
        "cnn = models.Sequential([\n",
        "\n",
        "    rescale_,\n",
        "\n",
        "    data_augmentation,\n",
        "    \n",
        "    layers.Conv2D(filters=32, kernel_size=(3, 3), activation='relu', padding = 'same'),\n",
        "    layers.MaxPooling2D(),\n",
        "\n",
        "    layers.Conv2D(filters=64, kernel_size=(3, 3), activation='relu', padding = 'same'),\n",
        "    layers.MaxPooling2D(),\n",
        "\n",
        "    layers.Dropout(0.3),\n",
        "\n",
        "    layers.Conv2D(filters=128, kernel_size=(3, 3), activation='relu', padding = 'same'),\n",
        "    layers.MaxPooling2D(),\n",
        "\n",
        "    layers.Dropout(0.35),\n",
        "\n",
        "    layers.Conv2D(filters=256, kernel_size=(3, 3), activation='relu', padding = 'same'),\n",
        "    layers.MaxPooling2D(),\n",
        "    \n",
        "    layers.Flatten(),\n",
        "\n",
        "    layers.Dropout(0.3),\n",
        "\n",
        "    layers.Dense(256,activation = 'relu'),\n",
        "\n",
        "    layers.Dropout(0.2),\n",
        "\n",
        "    layers.Dense(64,activation = 'relu'),\n",
        "    \n",
        "    layers.Dense(15, activation='softmax')\n",
        "])\n",
        "cnn.compile(optimizer=optimizerFN,\n",
        "              loss= lossFN,\n",
        "              metrics=['accuracy'])"
      ],
      "metadata": {
        "id": "RnHEmQ-xpD8E"
      },
      "execution_count": null,
      "outputs": []
    },
    {
      "cell_type": "code",
      "source": [
        "history = cnn.fit(X_train,y_train,batch_size = 32, validation_split = 0.05, epochs=98)"
      ],
      "metadata": {
        "colab": {
          "base_uri": "https://localhost:8080/"
        },
        "id": "nXK6LqccpIcu",
        "outputId": "357bf85b-c57d-449e-ed84-c2c7811f8d46"
      },
      "execution_count": null,
      "outputs": [
        {
          "output_type": "stream",
          "name": "stdout",
          "text": [
            "Epoch 1/98\n",
            "73/73 [==============================] - 16s 86ms/step - loss: 2.7670 - accuracy: 0.0719 - val_loss: 2.5590 - val_accuracy: 0.0976\n",
            "Epoch 2/98\n",
            "73/73 [==============================] - 6s 80ms/step - loss: 2.4225 - accuracy: 0.1828 - val_loss: 2.1235 - val_accuracy: 0.2602\n",
            "Epoch 3/98\n",
            "73/73 [==============================] - 6s 79ms/step - loss: 2.0986 - accuracy: 0.2800 - val_loss: 2.0139 - val_accuracy: 0.3008\n",
            "Epoch 4/98\n",
            "73/73 [==============================] - 8s 111ms/step - loss: 1.8945 - accuracy: 0.3365 - val_loss: 1.8026 - val_accuracy: 0.3577\n",
            "Epoch 5/98\n",
            "73/73 [==============================] - 6s 87ms/step - loss: 1.8253 - accuracy: 0.3647 - val_loss: 1.7340 - val_accuracy: 0.4553\n",
            "Epoch 6/98\n",
            "73/73 [==============================] - 6s 79ms/step - loss: 1.7357 - accuracy: 0.3990 - val_loss: 1.6469 - val_accuracy: 0.4065\n",
            "Epoch 7/98\n",
            "73/73 [==============================] - 8s 110ms/step - loss: 1.6434 - accuracy: 0.4401 - val_loss: 1.5311 - val_accuracy: 0.4797\n",
            "Epoch 8/98\n",
            "73/73 [==============================] - 9s 128ms/step - loss: 1.6076 - accuracy: 0.4435 - val_loss: 1.6002 - val_accuracy: 0.4553\n",
            "Epoch 9/98\n",
            "73/73 [==============================] - 7s 98ms/step - loss: 1.6133 - accuracy: 0.4508 - val_loss: 1.7036 - val_accuracy: 0.4309\n",
            "Epoch 10/98\n",
            "73/73 [==============================] - 6s 80ms/step - loss: 1.5271 - accuracy: 0.4713 - val_loss: 1.5974 - val_accuracy: 0.4228\n",
            "Epoch 11/98\n",
            "73/73 [==============================] - 6s 79ms/step - loss: 1.5099 - accuracy: 0.4683 - val_loss: 1.5018 - val_accuracy: 0.4634\n",
            "Epoch 12/98\n",
            "73/73 [==============================] - 6s 79ms/step - loss: 1.4474 - accuracy: 0.5068 - val_loss: 1.5354 - val_accuracy: 0.5041\n",
            "Epoch 13/98\n",
            "73/73 [==============================] - 6s 79ms/step - loss: 1.4095 - accuracy: 0.5137 - val_loss: 1.3833 - val_accuracy: 0.5691\n",
            "Epoch 14/98\n",
            "73/73 [==============================] - 6s 80ms/step - loss: 1.3882 - accuracy: 0.5180 - val_loss: 1.4772 - val_accuracy: 0.4797\n",
            "Epoch 15/98\n",
            "73/73 [==============================] - 6s 80ms/step - loss: 1.3362 - accuracy: 0.5432 - val_loss: 1.4352 - val_accuracy: 0.5691\n",
            "Epoch 16/98\n",
            "73/73 [==============================] - 6s 80ms/step - loss: 1.3137 - accuracy: 0.5432 - val_loss: 1.3797 - val_accuracy: 0.5366\n",
            "Epoch 17/98\n",
            "73/73 [==============================] - 6s 82ms/step - loss: 1.2799 - accuracy: 0.5432 - val_loss: 1.3383 - val_accuracy: 0.5772\n",
            "Epoch 18/98\n",
            "73/73 [==============================] - 6s 83ms/step - loss: 1.2528 - accuracy: 0.5582 - val_loss: 1.3353 - val_accuracy: 0.5691\n",
            "Epoch 19/98\n",
            "73/73 [==============================] - 7s 97ms/step - loss: 1.2824 - accuracy: 0.5557 - val_loss: 1.3002 - val_accuracy: 0.5528\n",
            "Epoch 20/98\n",
            "73/73 [==============================] - 7s 95ms/step - loss: 1.2142 - accuracy: 0.5920 - val_loss: 1.4064 - val_accuracy: 0.5610\n",
            "Epoch 21/98\n",
            "73/73 [==============================] - 6s 80ms/step - loss: 1.1823 - accuracy: 0.5860 - val_loss: 1.2121 - val_accuracy: 0.6016\n",
            "Epoch 22/98\n",
            "73/73 [==============================] - 6s 81ms/step - loss: 1.1572 - accuracy: 0.5933 - val_loss: 1.2080 - val_accuracy: 0.5935\n",
            "Epoch 23/98\n",
            "73/73 [==============================] - 6s 81ms/step - loss: 1.1882 - accuracy: 0.5839 - val_loss: 1.2619 - val_accuracy: 0.5854\n",
            "Epoch 24/98\n",
            "73/73 [==============================] - 6s 83ms/step - loss: 1.1248 - accuracy: 0.6117 - val_loss: 1.3439 - val_accuracy: 0.5203\n",
            "Epoch 25/98\n",
            "73/73 [==============================] - 6s 80ms/step - loss: 1.0907 - accuracy: 0.6134 - val_loss: 1.4291 - val_accuracy: 0.5854\n",
            "Epoch 26/98\n",
            "73/73 [==============================] - 6s 80ms/step - loss: 1.0911 - accuracy: 0.6152 - val_loss: 1.2048 - val_accuracy: 0.5935\n",
            "Epoch 27/98\n",
            "73/73 [==============================] - 6s 84ms/step - loss: 1.0723 - accuracy: 0.6143 - val_loss: 1.1865 - val_accuracy: 0.6016\n",
            "Epoch 28/98\n",
            "73/73 [==============================] - 6s 80ms/step - loss: 1.0363 - accuracy: 0.6473 - val_loss: 1.1757 - val_accuracy: 0.5935\n",
            "Epoch 29/98\n",
            "73/73 [==============================] - 6s 79ms/step - loss: 0.9759 - accuracy: 0.6498 - val_loss: 1.1757 - val_accuracy: 0.5854\n",
            "Epoch 30/98\n",
            "73/73 [==============================] - 6s 79ms/step - loss: 0.9886 - accuracy: 0.6451 - val_loss: 1.1358 - val_accuracy: 0.6585\n",
            "Epoch 31/98\n",
            "73/73 [==============================] - 6s 79ms/step - loss: 0.9332 - accuracy: 0.6545 - val_loss: 1.2647 - val_accuracy: 0.6098\n",
            "Epoch 32/98\n",
            "73/73 [==============================] - 6s 79ms/step - loss: 0.9581 - accuracy: 0.6687 - val_loss: 1.4445 - val_accuracy: 0.5610\n",
            "Epoch 33/98\n",
            "73/73 [==============================] - 6s 79ms/step - loss: 0.9789 - accuracy: 0.6601 - val_loss: 1.2492 - val_accuracy: 0.5854\n",
            "Epoch 34/98\n",
            "73/73 [==============================] - 6s 80ms/step - loss: 0.8978 - accuracy: 0.6939 - val_loss: 1.2242 - val_accuracy: 0.6423\n",
            "Epoch 35/98\n",
            "73/73 [==============================] - 6s 80ms/step - loss: 0.9168 - accuracy: 0.6789 - val_loss: 1.2190 - val_accuracy: 0.6016\n",
            "Epoch 36/98\n",
            "73/73 [==============================] - 6s 79ms/step - loss: 0.9247 - accuracy: 0.6772 - val_loss: 1.2007 - val_accuracy: 0.6098\n",
            "Epoch 37/98\n",
            "73/73 [==============================] - 6s 79ms/step - loss: 0.8780 - accuracy: 0.6862 - val_loss: 1.2880 - val_accuracy: 0.6098\n",
            "Epoch 38/98\n",
            "73/73 [==============================] - 6s 80ms/step - loss: 0.9375 - accuracy: 0.6712 - val_loss: 1.2193 - val_accuracy: 0.5935\n",
            "Epoch 39/98\n",
            "73/73 [==============================] - 6s 80ms/step - loss: 0.8830 - accuracy: 0.6819 - val_loss: 1.2262 - val_accuracy: 0.5691\n",
            "Epoch 40/98\n",
            "73/73 [==============================] - 6s 80ms/step - loss: 0.8484 - accuracy: 0.6922 - val_loss: 1.1834 - val_accuracy: 0.6585\n",
            "Epoch 41/98\n",
            "73/73 [==============================] - 6s 80ms/step - loss: 0.8536 - accuracy: 0.7025 - val_loss: 1.2397 - val_accuracy: 0.6098\n",
            "Epoch 42/98\n",
            "73/73 [==============================] - 6s 80ms/step - loss: 0.7961 - accuracy: 0.7123 - val_loss: 1.2960 - val_accuracy: 0.6179\n",
            "Epoch 43/98\n",
            "73/73 [==============================] - 6s 80ms/step - loss: 0.8399 - accuracy: 0.7055 - val_loss: 1.3347 - val_accuracy: 0.6341\n",
            "Epoch 44/98\n",
            "73/73 [==============================] - 6s 79ms/step - loss: 0.7661 - accuracy: 0.7312 - val_loss: 1.2361 - val_accuracy: 0.6341\n",
            "Epoch 45/98\n",
            "73/73 [==============================] - 6s 81ms/step - loss: 0.8019 - accuracy: 0.7170 - val_loss: 1.3029 - val_accuracy: 0.5691\n",
            "Epoch 46/98\n",
            "73/73 [==============================] - 6s 80ms/step - loss: 0.7773 - accuracy: 0.7179 - val_loss: 1.2915 - val_accuracy: 0.6016\n",
            "Epoch 47/98\n",
            "73/73 [==============================] - 6s 79ms/step - loss: 0.7340 - accuracy: 0.7380 - val_loss: 1.2853 - val_accuracy: 0.6179\n",
            "Epoch 48/98\n",
            "73/73 [==============================] - 6s 79ms/step - loss: 0.7920 - accuracy: 0.7158 - val_loss: 1.3352 - val_accuracy: 0.5854\n",
            "Epoch 49/98\n",
            "73/73 [==============================] - 6s 79ms/step - loss: 0.7251 - accuracy: 0.7427 - val_loss: 1.2871 - val_accuracy: 0.6179\n",
            "Epoch 50/98\n",
            "73/73 [==============================] - 6s 80ms/step - loss: 0.7193 - accuracy: 0.7461 - val_loss: 1.3078 - val_accuracy: 0.5935\n",
            "Epoch 51/98\n",
            "73/73 [==============================] - 6s 79ms/step - loss: 0.7013 - accuracy: 0.7551 - val_loss: 1.4173 - val_accuracy: 0.5935\n",
            "Epoch 52/98\n",
            "73/73 [==============================] - 6s 79ms/step - loss: 0.7493 - accuracy: 0.7295 - val_loss: 1.3438 - val_accuracy: 0.6016\n",
            "Epoch 53/98\n",
            "73/73 [==============================] - 6s 80ms/step - loss: 0.7068 - accuracy: 0.7624 - val_loss: 1.2210 - val_accuracy: 0.6423\n",
            "Epoch 54/98\n",
            "73/73 [==============================] - 6s 80ms/step - loss: 0.6721 - accuracy: 0.7624 - val_loss: 1.3132 - val_accuracy: 0.5854\n",
            "Epoch 55/98\n",
            "73/73 [==============================] - 6s 79ms/step - loss: 0.7054 - accuracy: 0.7457 - val_loss: 1.2885 - val_accuracy: 0.6016\n",
            "Epoch 56/98\n",
            "73/73 [==============================] - 6s 81ms/step - loss: 0.6874 - accuracy: 0.7650 - val_loss: 1.3081 - val_accuracy: 0.6341\n",
            "Epoch 57/98\n",
            "73/73 [==============================] - 6s 81ms/step - loss: 0.6785 - accuracy: 0.7539 - val_loss: 1.2997 - val_accuracy: 0.6260\n",
            "Epoch 58/98\n",
            "73/73 [==============================] - 6s 79ms/step - loss: 0.6221 - accuracy: 0.7774 - val_loss: 1.4501 - val_accuracy: 0.6504\n",
            "Epoch 59/98\n",
            "73/73 [==============================] - 6s 79ms/step - loss: 0.6591 - accuracy: 0.7633 - val_loss: 1.3256 - val_accuracy: 0.6098\n",
            "Epoch 60/98\n",
            "73/73 [==============================] - 6s 79ms/step - loss: 0.6182 - accuracy: 0.7774 - val_loss: 1.3678 - val_accuracy: 0.6179\n",
            "Epoch 61/98\n",
            "73/73 [==============================] - 6s 80ms/step - loss: 0.6812 - accuracy: 0.7590 - val_loss: 1.4125 - val_accuracy: 0.6341\n",
            "Epoch 62/98\n",
            "73/73 [==============================] - 6s 80ms/step - loss: 0.6289 - accuracy: 0.7800 - val_loss: 1.3698 - val_accuracy: 0.6504\n",
            "Epoch 63/98\n",
            "73/73 [==============================] - 6s 79ms/step - loss: 0.5759 - accuracy: 0.7971 - val_loss: 1.3266 - val_accuracy: 0.5935\n",
            "Epoch 64/98\n",
            "73/73 [==============================] - 6s 80ms/step - loss: 0.6119 - accuracy: 0.7907 - val_loss: 1.4046 - val_accuracy: 0.6341\n",
            "Epoch 65/98\n",
            "73/73 [==============================] - 6s 80ms/step - loss: 0.5959 - accuracy: 0.7890 - val_loss: 1.4031 - val_accuracy: 0.6341\n",
            "Epoch 66/98\n",
            "73/73 [==============================] - 6s 80ms/step - loss: 0.5548 - accuracy: 0.7932 - val_loss: 1.5167 - val_accuracy: 0.6423\n",
            "Epoch 67/98\n",
            "73/73 [==============================] - 7s 94ms/step - loss: 0.6171 - accuracy: 0.7911 - val_loss: 1.5525 - val_accuracy: 0.5854\n",
            "Epoch 68/98\n",
            "73/73 [==============================] - 7s 93ms/step - loss: 0.5543 - accuracy: 0.7954 - val_loss: 1.4514 - val_accuracy: 0.5528\n",
            "Epoch 69/98\n",
            "73/73 [==============================] - 6s 80ms/step - loss: 0.5746 - accuracy: 0.7902 - val_loss: 1.3484 - val_accuracy: 0.6423\n",
            "Epoch 70/98\n",
            "73/73 [==============================] - 6s 81ms/step - loss: 0.5527 - accuracy: 0.8035 - val_loss: 1.3987 - val_accuracy: 0.6423\n",
            "Epoch 71/98\n",
            "73/73 [==============================] - 6s 80ms/step - loss: 0.5737 - accuracy: 0.7988 - val_loss: 1.4536 - val_accuracy: 0.6341\n",
            "Epoch 72/98\n",
            "73/73 [==============================] - 6s 81ms/step - loss: 0.5311 - accuracy: 0.8082 - val_loss: 1.4555 - val_accuracy: 0.6341\n",
            "Epoch 73/98\n",
            "73/73 [==============================] - 6s 80ms/step - loss: 0.5500 - accuracy: 0.8134 - val_loss: 1.5482 - val_accuracy: 0.5935\n",
            "Epoch 74/98\n",
            "73/73 [==============================] - 6s 80ms/step - loss: 0.5565 - accuracy: 0.8099 - val_loss: 1.5374 - val_accuracy: 0.5691\n",
            "Epoch 75/98\n",
            "73/73 [==============================] - 6s 80ms/step - loss: 0.5523 - accuracy: 0.8052 - val_loss: 1.4620 - val_accuracy: 0.6423\n",
            "Epoch 76/98\n",
            "73/73 [==============================] - 6s 83ms/step - loss: 0.4779 - accuracy: 0.8249 - val_loss: 1.4888 - val_accuracy: 0.6260\n",
            "Epoch 77/98\n",
            "73/73 [==============================] - 6s 79ms/step - loss: 0.5269 - accuracy: 0.8121 - val_loss: 1.5609 - val_accuracy: 0.6016\n",
            "Epoch 78/98\n",
            "73/73 [==============================] - 6s 80ms/step - loss: 0.5280 - accuracy: 0.8078 - val_loss: 1.4229 - val_accuracy: 0.6260\n",
            "Epoch 79/98\n",
            "73/73 [==============================] - 6s 80ms/step - loss: 0.4995 - accuracy: 0.8206 - val_loss: 1.4949 - val_accuracy: 0.6098\n",
            "Epoch 80/98\n",
            "73/73 [==============================] - 6s 80ms/step - loss: 0.5043 - accuracy: 0.8249 - val_loss: 1.4637 - val_accuracy: 0.6260\n",
            "Epoch 81/98\n",
            "73/73 [==============================] - 6s 80ms/step - loss: 0.4631 - accuracy: 0.8305 - val_loss: 1.4813 - val_accuracy: 0.6504\n",
            "Epoch 82/98\n",
            "73/73 [==============================] - 6s 79ms/step - loss: 0.4723 - accuracy: 0.8241 - val_loss: 1.5594 - val_accuracy: 0.6341\n",
            "Epoch 83/98\n",
            "73/73 [==============================] - 6s 82ms/step - loss: 0.4871 - accuracy: 0.8236 - val_loss: 1.5259 - val_accuracy: 0.6098\n",
            "Epoch 84/98\n",
            "73/73 [==============================] - 6s 80ms/step - loss: 0.5157 - accuracy: 0.8305 - val_loss: 1.5535 - val_accuracy: 0.6504\n",
            "Epoch 85/98\n",
            "73/73 [==============================] - 6s 81ms/step - loss: 0.4687 - accuracy: 0.8403 - val_loss: 1.3987 - val_accuracy: 0.6585\n",
            "Epoch 86/98\n",
            "73/73 [==============================] - 6s 80ms/step - loss: 0.4925 - accuracy: 0.8335 - val_loss: 1.5162 - val_accuracy: 0.6341\n",
            "Epoch 87/98\n",
            "73/73 [==============================] - 6s 80ms/step - loss: 0.4897 - accuracy: 0.8215 - val_loss: 1.4195 - val_accuracy: 0.6179\n",
            "Epoch 88/98\n",
            "73/73 [==============================] - 6s 82ms/step - loss: 0.4552 - accuracy: 0.8322 - val_loss: 1.3877 - val_accuracy: 0.6341\n",
            "Epoch 89/98\n",
            "73/73 [==============================] - 6s 81ms/step - loss: 0.5126 - accuracy: 0.8215 - val_loss: 1.4041 - val_accuracy: 0.6341\n",
            "Epoch 90/98\n",
            "73/73 [==============================] - 6s 80ms/step - loss: 0.5024 - accuracy: 0.8245 - val_loss: 1.3408 - val_accuracy: 0.6179\n",
            "Epoch 91/98\n",
            "73/73 [==============================] - 6s 78ms/step - loss: 0.4155 - accuracy: 0.8579 - val_loss: 1.3010 - val_accuracy: 0.6423\n",
            "Epoch 92/98\n",
            "73/73 [==============================] - 6s 79ms/step - loss: 0.4416 - accuracy: 0.8450 - val_loss: 1.5097 - val_accuracy: 0.6260\n",
            "Epoch 93/98\n",
            "73/73 [==============================] - 6s 80ms/step - loss: 0.4689 - accuracy: 0.8348 - val_loss: 1.5489 - val_accuracy: 0.6504\n",
            "Epoch 94/98\n",
            "73/73 [==============================] - 6s 81ms/step - loss: 0.4833 - accuracy: 0.8266 - val_loss: 1.4011 - val_accuracy: 0.6016\n",
            "Epoch 95/98\n",
            "73/73 [==============================] - 6s 79ms/step - loss: 0.4250 - accuracy: 0.8450 - val_loss: 1.3344 - val_accuracy: 0.6423\n",
            "Epoch 96/98\n",
            "73/73 [==============================] - 6s 80ms/step - loss: 0.4432 - accuracy: 0.8360 - val_loss: 1.4644 - val_accuracy: 0.6423\n",
            "Epoch 97/98\n",
            "73/73 [==============================] - 6s 80ms/step - loss: 0.3868 - accuracy: 0.8545 - val_loss: 1.3662 - val_accuracy: 0.6504\n",
            "Epoch 98/98\n",
            "73/73 [==============================] - 6s 80ms/step - loss: 0.4261 - accuracy: 0.8412 - val_loss: 1.5061 - val_accuracy: 0.6098\n"
          ]
        }
      ]
    },
    {
      "cell_type": "code",
      "source": [
        "cnn.evaluate(X_train, y_train)"
      ],
      "metadata": {
        "colab": {
          "base_uri": "https://localhost:8080/"
        },
        "id": "FB85m72xpf3g",
        "outputId": "8b593e1a-81e0-4386-8d40-7333dd69aedd"
      },
      "execution_count": null,
      "outputs": [
        {
          "output_type": "stream",
          "name": "stdout",
          "text": [
            "77/77 [==============================] - 2s 27ms/step - loss: 0.3985 - accuracy: 0.8613\n"
          ]
        },
        {
          "output_type": "execute_result",
          "data": {
            "text/plain": [
              "[0.39851170778274536, 0.861325740814209]"
            ]
          },
          "metadata": {},
          "execution_count": 7
        }
      ]
    },
    {
      "cell_type": "code",
      "source": [
        "cnn.evaluate(X_test, y_test)"
      ],
      "metadata": {
        "colab": {
          "base_uri": "https://localhost:8080/"
        },
        "id": "_B0OwYr3p1hE",
        "outputId": "85b7cae0-69cf-4101-8999-b62407a04672"
      },
      "execution_count": null,
      "outputs": [
        {
          "output_type": "stream",
          "name": "stdout",
          "text": [
            "14/14 [==============================] - 1s 44ms/step - loss: 1.4219 - accuracy: 0.6336\n"
          ]
        },
        {
          "output_type": "execute_result",
          "data": {
            "text/plain": [
              "[1.4219321012496948, 0.6336405277252197]"
            ]
          },
          "metadata": {},
          "execution_count": 8
        }
      ]
    },
    {
      "cell_type": "code",
      "source": [
        "plt.plot(history.history['accuracy'])\n",
        "plt.plot(history.history['val_accuracy'])\n",
        "plt.title('model accuracy')\n",
        "plt.ylabel('accuracy')\n",
        "plt.xlabel('epoch')\n",
        "plt.legend(['Train', 'Validation'], loc='upper left')\n",
        "plt.show()\n",
        "\n",
        "plt.plot(history.history['loss'])\n",
        "plt.plot(history.history['val_loss'])\n",
        "plt.title('model loss')\n",
        "plt.ylabel('loss')\n",
        "plt.xlabel('epoch')\n",
        "plt.legend(['Train', 'Validation'], loc='upper left')\n",
        "plt.show()"
      ],
      "metadata": {
        "colab": {
          "base_uri": "https://localhost:8080/",
          "height": 573
        },
        "id": "v4M7gzVcp4bn",
        "outputId": "d5a1941c-0514-413c-f846-ac826bf9bf97"
      },
      "execution_count": null,
      "outputs": [
        {
          "output_type": "display_data",
          "data": {
            "text/plain": [
              "<Figure size 432x288 with 1 Axes>"
            ],
            "image/png": "[encoded data removed]"
          },
          "metadata": {
            "needs_background": "light"
          }
        },
        {
          "output_type": "display_data",
          "data": {
            "text/plain": [
              "<Figure size 432x288 with 1 Axes>"
            ],
            "image/png": "[encoded data removed]"
          },
          "metadata": {
            "needs_background": "light"
          }
        }
      ]
    },
    {
      "cell_type": "code",
      "source": [
        "from sklearn.metrics import f1_score, precision_recall_fscore_support, confusion_matrix\n",
        "import pandas as pd\n",
        "import seaborn as sns\n",
        "\n",
        "y_pred = np.argmax(cnn.predict(X_test), axis=-1)\n",
        "\n",
        "print(f1_score(y_test, y_pred, average=\"macro\"))\n",
        "cm = confusion_matrix(y_test, y_pred)\n",
        "cm_df = pd.DataFrame(cm, index=categories)\n",
        "plt.figure(figsize=(5,4))\n",
        "sns.heatmap(cm_df, annot=True)\n",
        "plt.title('Confusion Matrix')\n",
        "plt.ylabel('Actal Values')\n",
        "plt.xlabel('Predicted Values')\n",
        "plt.show()\n",
        "for i in range(len(categories)):\n",
        "  print(\"Values of: \", categories[i])\n",
        "  print(\"precision: \",precision_recall_fscore_support(y_test, y_pred)[0][i])\n",
        "  print(\"recall: \",precision_recall_fscore_support(y_test, y_pred)[1][i])\n",
        "  print(\"f-score: \", precision_recall_fscore_support(y_test, y_pred)[2][i])\n",
        "  print(\"support\", precision_recall_fscore_support(y_test, y_pred)[3][i])\n",
        "  print(\"i =\",i)\n",
        "  print(\"=\"*10)"
      ],
      "metadata": {
        "colab": {
          "base_uri": "https://localhost:8080/",
          "height": 1000
        },
        "id": "5J4zpRDLqEnP",
        "outputId": "62df5c68-75d4-497f-dfdd-8f45e4b8ca3e"
      },
      "execution_count": null,
      "outputs": [
        {
          "output_type": "stream",
          "name": "stdout",
          "text": [
            "14/14 [==============================] - 0s 23ms/step\n",
            "0.6268290689891819\n"
          ]
        },
        {
          "output_type": "display_data",
          "data": {
            "text/plain": [
              "<Figure size 360x288 with 2 Axes>"
            ],
            "image/png": "[encoded data removed]"
          },
          "metadata": {
            "needs_background": "light"
          }
        },
        {
          "output_type": "stream",
          "name": "stdout",
          "text": [
            "Values of:  mattar_paneer\n",
            "precision:  0.8148148148148148\n",
            "recall:  0.6111111111111112\n",
            "f-score:  0.6984126984126984\n",
            "support 36\n",
            "i = 0\n",
            "==========\n",
            "Values of:  beetroot_halwa\n",
            "precision:  1.0\n",
            "recall:  0.8518518518518519\n",
            "f-score:  0.92\n",
            "support 27\n",
            "i = 1\n",
            "==========\n",
            "Values of:  bhindi_fry\n",
            "precision:  0.8\n",
            "recall:  0.5714285714285714\n",
            "f-score:  0.6666666666666666\n",
            "support 35\n",
            "i = 2\n",
            "==========\n",
            "Values of:  chicken_biryani\n",
            "precision:  0.25675675675675674\n",
            "recall:  0.6785714285714286\n",
            "f-score:  0.37254901960784315\n",
            "support 28\n",
            "i = 3\n",
            "==========\n",
            "Values of:  chicken_lollipop\n",
            "precision:  0.84\n",
            "recall:  0.75\n",
            "f-score:  0.7924528301886793\n",
            "support 28\n",
            "i = 4\n",
            "==========\n",
            "Values of:  dal_makhani\n",
            "precision:  0.7419354838709677\n",
            "recall:  0.7666666666666667\n",
            "f-score:  0.7540983606557377\n",
            "support 30\n",
            "i = 5\n",
            "==========\n",
            "Values of:  egg_burji\n",
            "precision:  0.5\n",
            "recall:  0.26666666666666666\n",
            "f-score:  0.3478260869565218\n",
            "support 30\n",
            "i = 6\n",
            "==========\n",
            "Values of:  jalebi\n",
            "precision:  0.8157894736842105\n",
            "recall:  0.7560975609756098\n",
            "f-score:  0.7848101265822786\n",
            "support 41\n",
            "i = 7\n",
            "==========\n",
            "Values of:  jeera_aloo\n",
            "precision:  0.6052631578947368\n",
            "recall:  0.6764705882352942\n",
            "f-score:  0.6388888888888888\n",
            "support 34\n",
            "i = 8\n",
            "==========\n",
            "Values of:  kaju_katli\n",
            "precision:  0.3333333333333333\n",
            "recall:  0.25\n",
            "f-score:  0.28571428571428575\n",
            "support 20\n",
            "i = 9\n",
            "==========\n",
            "Values of:  palak_paneer\n",
            "precision:  0.7407407407407407\n",
            "recall:  0.7142857142857143\n",
            "f-score:  0.7272727272727273\n",
            "support 28\n",
            "i = 10\n",
            "==========\n",
            "Values of:  Parotta\n",
            "precision:  0.6176470588235294\n",
            "recall:  0.6176470588235294\n",
            "f-score:  0.6176470588235294\n",
            "support 34\n",
            "i = 11\n",
            "==========\n",
            "Values of:  poori\n",
            "precision:  0.5454545454545454\n",
            "recall:  0.4\n",
            "f-score:  0.4615384615384615\n",
            "support 15\n",
            "i = 12\n",
            "==========\n",
            "Values of:  rasgulla\n",
            "precision:  0.5789473684210527\n",
            "recall:  0.8461538461538461\n",
            "f-score:  0.6875\n",
            "support 26\n",
            "i = 13\n",
            "==========\n",
            "Values of:  vada\n",
            "precision:  0.9166666666666666\n",
            "recall:  0.5\n",
            "f-score:  0.6470588235294118\n",
            "support 22\n",
            "i = 14\n",
            "==========\n"
          ]
        }
      ]
    }
  ]
}